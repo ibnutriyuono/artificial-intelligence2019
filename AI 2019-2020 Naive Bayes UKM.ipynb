{
 "cells": [
  {
   "cell_type": "code",
   "execution_count": 1,
   "metadata": {},
   "outputs": [],
   "source": [
    "import numpy as np\n",
    "import pandas as pd\n",
    "import matplotlib.pyplot as plt"
   ]
  },
  {
   "cell_type": "code",
   "execution_count": 2,
   "metadata": {},
   "outputs": [
    {
     "data": {
      "text/html": [
       "<div>\n",
       "<style scoped>\n",
       "    .dataframe tbody tr th:only-of-type {\n",
       "        vertical-align: middle;\n",
       "    }\n",
       "\n",
       "    .dataframe tbody tr th {\n",
       "        vertical-align: top;\n",
       "    }\n",
       "\n",
       "    .dataframe thead th {\n",
       "        text-align: right;\n",
       "    }\n",
       "</style>\n",
       "<table border=\"1\" class=\"dataframe\">\n",
       "  <thead>\n",
       "    <tr style=\"text-align: right;\">\n",
       "      <th></th>\n",
       "      <th>NAMA UKM</th>\n",
       "      <th>LAMA USAHA(dlm tahun)</th>\n",
       "      <th>JUMLAH PEKERJA</th>\n",
       "      <th>OMZET (dlm juta)</th>\n",
       "      <th>JUMLAH ASET</th>\n",
       "      <th>HASIL KEPUTUSAN</th>\n",
       "    </tr>\n",
       "  </thead>\n",
       "  <tbody>\n",
       "    <tr>\n",
       "      <th>0</th>\n",
       "      <td>Sanggar Azalea</td>\n",
       "      <td>2</td>\n",
       "      <td>14</td>\n",
       "      <td>3</td>\n",
       "      <td>2</td>\n",
       "      <td>TUNDA</td>\n",
       "    </tr>\n",
       "    <tr>\n",
       "      <th>1</th>\n",
       "      <td>Kedurus Sejahtera</td>\n",
       "      <td>6</td>\n",
       "      <td>7</td>\n",
       "      <td>5</td>\n",
       "      <td>4</td>\n",
       "      <td>TIDAK</td>\n",
       "    </tr>\n",
       "    <tr>\n",
       "      <th>2</th>\n",
       "      <td>Rapi Ayu Handycraft</td>\n",
       "      <td>4</td>\n",
       "      <td>16</td>\n",
       "      <td>1</td>\n",
       "      <td>10</td>\n",
       "      <td>TUNDA</td>\n",
       "    </tr>\n",
       "    <tr>\n",
       "      <th>3</th>\n",
       "      <td>Jaya Komputer</td>\n",
       "      <td>2</td>\n",
       "      <td>9</td>\n",
       "      <td>2</td>\n",
       "      <td>2</td>\n",
       "      <td>TUNDA</td>\n",
       "    </tr>\n",
       "    <tr>\n",
       "      <th>4</th>\n",
       "      <td>Purnama</td>\n",
       "      <td>1</td>\n",
       "      <td>9</td>\n",
       "      <td>5</td>\n",
       "      <td>4</td>\n",
       "      <td>TUNDA</td>\n",
       "    </tr>\n",
       "    <tr>\n",
       "      <th>5</th>\n",
       "      <td>Kencana Craft</td>\n",
       "      <td>3</td>\n",
       "      <td>22</td>\n",
       "      <td>2</td>\n",
       "      <td>1</td>\n",
       "      <td>TUNDA</td>\n",
       "    </tr>\n",
       "    <tr>\n",
       "      <th>6</th>\n",
       "      <td>V-Tri Accessories</td>\n",
       "      <td>4</td>\n",
       "      <td>14</td>\n",
       "      <td>2</td>\n",
       "      <td>3</td>\n",
       "      <td>TIDAK</td>\n",
       "    </tr>\n",
       "    <tr>\n",
       "      <th>7</th>\n",
       "      <td>Maju Jaya Sablon</td>\n",
       "      <td>5</td>\n",
       "      <td>1</td>\n",
       "      <td>3</td>\n",
       "      <td>2</td>\n",
       "      <td>YA</td>\n",
       "    </tr>\n",
       "    <tr>\n",
       "      <th>8</th>\n",
       "      <td>Batik Semanggi</td>\n",
       "      <td>6</td>\n",
       "      <td>1</td>\n",
       "      <td>2</td>\n",
       "      <td>3</td>\n",
       "      <td>YA</td>\n",
       "    </tr>\n",
       "    <tr>\n",
       "      <th>9</th>\n",
       "      <td>Sunrise Picture</td>\n",
       "      <td>7</td>\n",
       "      <td>13</td>\n",
       "      <td>5</td>\n",
       "      <td>10</td>\n",
       "      <td>TIDAK</td>\n",
       "    </tr>\n",
       "    <tr>\n",
       "      <th>10</th>\n",
       "      <td>Mitra Mandiri</td>\n",
       "      <td>4</td>\n",
       "      <td>3</td>\n",
       "      <td>3</td>\n",
       "      <td>6</td>\n",
       "      <td>YA</td>\n",
       "    </tr>\n",
       "    <tr>\n",
       "      <th>11</th>\n",
       "      <td>Liana</td>\n",
       "      <td>0</td>\n",
       "      <td>15</td>\n",
       "      <td>3</td>\n",
       "      <td>6</td>\n",
       "      <td>TIDAK</td>\n",
       "    </tr>\n",
       "    <tr>\n",
       "      <th>12</th>\n",
       "      <td>Madekan</td>\n",
       "      <td>7</td>\n",
       "      <td>15</td>\n",
       "      <td>3</td>\n",
       "      <td>8</td>\n",
       "      <td>YA</td>\n",
       "    </tr>\n",
       "    <tr>\n",
       "      <th>13</th>\n",
       "      <td>Temuwati</td>\n",
       "      <td>2</td>\n",
       "      <td>26</td>\n",
       "      <td>1</td>\n",
       "      <td>8</td>\n",
       "      <td>TIDAK</td>\n",
       "    </tr>\n",
       "    <tr>\n",
       "      <th>14</th>\n",
       "      <td>Eva Nur Fadillah</td>\n",
       "      <td>5</td>\n",
       "      <td>23</td>\n",
       "      <td>3</td>\n",
       "      <td>10</td>\n",
       "      <td>TUNDA</td>\n",
       "    </tr>\n",
       "    <tr>\n",
       "      <th>15</th>\n",
       "      <td>Sri Sulatiningsih</td>\n",
       "      <td>3</td>\n",
       "      <td>18</td>\n",
       "      <td>5</td>\n",
       "      <td>7</td>\n",
       "      <td>TUNDA</td>\n",
       "    </tr>\n",
       "    <tr>\n",
       "      <th>16</th>\n",
       "      <td>Warna Ayu</td>\n",
       "      <td>7</td>\n",
       "      <td>20</td>\n",
       "      <td>3</td>\n",
       "      <td>6</td>\n",
       "      <td>YA</td>\n",
       "    </tr>\n",
       "    <tr>\n",
       "      <th>17</th>\n",
       "      <td>Ukm Jasierah</td>\n",
       "      <td>3</td>\n",
       "      <td>2</td>\n",
       "      <td>2</td>\n",
       "      <td>9</td>\n",
       "      <td>TIDAK</td>\n",
       "    </tr>\n",
       "    <tr>\n",
       "      <th>18</th>\n",
       "      <td>Nurul</td>\n",
       "      <td>6</td>\n",
       "      <td>16</td>\n",
       "      <td>5</td>\n",
       "      <td>7</td>\n",
       "      <td>YA</td>\n",
       "    </tr>\n",
       "    <tr>\n",
       "      <th>19</th>\n",
       "      <td>Pujiati</td>\n",
       "      <td>0</td>\n",
       "      <td>24</td>\n",
       "      <td>3</td>\n",
       "      <td>1</td>\n",
       "      <td>YA</td>\n",
       "    </tr>\n",
       "    <tr>\n",
       "      <th>20</th>\n",
       "      <td>Indrayani</td>\n",
       "      <td>2</td>\n",
       "      <td>18</td>\n",
       "      <td>1</td>\n",
       "      <td>8</td>\n",
       "      <td>TIDAK</td>\n",
       "    </tr>\n",
       "    <tr>\n",
       "      <th>21</th>\n",
       "      <td>Ksm Kurma</td>\n",
       "      <td>0</td>\n",
       "      <td>5</td>\n",
       "      <td>2</td>\n",
       "      <td>5</td>\n",
       "      <td>TUNDA</td>\n",
       "    </tr>\n",
       "    <tr>\n",
       "      <th>22</th>\n",
       "      <td>Ukm Danadipa Etnik</td>\n",
       "      <td>3</td>\n",
       "      <td>10</td>\n",
       "      <td>1</td>\n",
       "      <td>1</td>\n",
       "      <td>TUNDA</td>\n",
       "    </tr>\n",
       "    <tr>\n",
       "      <th>23</th>\n",
       "      <td>Ukm Enfina</td>\n",
       "      <td>3</td>\n",
       "      <td>25</td>\n",
       "      <td>4</td>\n",
       "      <td>6</td>\n",
       "      <td>TIDAK</td>\n",
       "    </tr>\n",
       "    <tr>\n",
       "      <th>24</th>\n",
       "      <td>Ksm Lezat</td>\n",
       "      <td>2</td>\n",
       "      <td>4</td>\n",
       "      <td>1</td>\n",
       "      <td>1</td>\n",
       "      <td>TIDAK</td>\n",
       "    </tr>\n",
       "    <tr>\n",
       "      <th>25</th>\n",
       "      <td>Andyni Collection</td>\n",
       "      <td>7</td>\n",
       "      <td>30</td>\n",
       "      <td>1</td>\n",
       "      <td>3</td>\n",
       "      <td>YA</td>\n",
       "    </tr>\n",
       "    <tr>\n",
       "      <th>26</th>\n",
       "      <td>Ananda Collection</td>\n",
       "      <td>6</td>\n",
       "      <td>3</td>\n",
       "      <td>4</td>\n",
       "      <td>7</td>\n",
       "      <td>TIDAK</td>\n",
       "    </tr>\n",
       "    <tr>\n",
       "      <th>27</th>\n",
       "      <td>Umk Rumpun Bambu</td>\n",
       "      <td>5</td>\n",
       "      <td>19</td>\n",
       "      <td>5</td>\n",
       "      <td>2</td>\n",
       "      <td>YA</td>\n",
       "    </tr>\n",
       "    <tr>\n",
       "      <th>28</th>\n",
       "      <td>Umk Flamboyan</td>\n",
       "      <td>4</td>\n",
       "      <td>25</td>\n",
       "      <td>2</td>\n",
       "      <td>4</td>\n",
       "      <td>YA</td>\n",
       "    </tr>\n",
       "    <tr>\n",
       "      <th>29</th>\n",
       "      <td>Umk Tandu A.W</td>\n",
       "      <td>3</td>\n",
       "      <td>3</td>\n",
       "      <td>2</td>\n",
       "      <td>4</td>\n",
       "      <td>TUNDA</td>\n",
       "    </tr>\n",
       "    <tr>\n",
       "      <th>30</th>\n",
       "      <td>Umk Prayogi</td>\n",
       "      <td>7</td>\n",
       "      <td>19</td>\n",
       "      <td>5</td>\n",
       "      <td>3</td>\n",
       "      <td>TUNDA</td>\n",
       "    </tr>\n",
       "    <tr>\n",
       "      <th>31</th>\n",
       "      <td>Umk Dian Collection</td>\n",
       "      <td>1</td>\n",
       "      <td>24</td>\n",
       "      <td>5</td>\n",
       "      <td>7</td>\n",
       "      <td>YA</td>\n",
       "    </tr>\n",
       "    <tr>\n",
       "      <th>32</th>\n",
       "      <td>Kelompok Tani</td>\n",
       "      <td>4</td>\n",
       "      <td>20</td>\n",
       "      <td>4</td>\n",
       "      <td>1</td>\n",
       "      <td>YA</td>\n",
       "    </tr>\n",
       "    <tr>\n",
       "      <th>33</th>\n",
       "      <td>Umi Hanik</td>\n",
       "      <td>2</td>\n",
       "      <td>12</td>\n",
       "      <td>4</td>\n",
       "      <td>4</td>\n",
       "      <td>TIDAK</td>\n",
       "    </tr>\n",
       "    <tr>\n",
       "      <th>34</th>\n",
       "      <td>Lilik Yulfa</td>\n",
       "      <td>7</td>\n",
       "      <td>29</td>\n",
       "      <td>5</td>\n",
       "      <td>2</td>\n",
       "      <td>YA</td>\n",
       "    </tr>\n",
       "    <tr>\n",
       "      <th>35</th>\n",
       "      <td>Titik Suprihatin</td>\n",
       "      <td>5</td>\n",
       "      <td>3</td>\n",
       "      <td>1</td>\n",
       "      <td>2</td>\n",
       "      <td>YA</td>\n",
       "    </tr>\n",
       "    <tr>\n",
       "      <th>36</th>\n",
       "      <td>Tutik Jaslikan</td>\n",
       "      <td>5</td>\n",
       "      <td>6</td>\n",
       "      <td>1</td>\n",
       "      <td>6</td>\n",
       "      <td>TIDAK</td>\n",
       "    </tr>\n",
       "    <tr>\n",
       "      <th>37</th>\n",
       "      <td>Subaun</td>\n",
       "      <td>4</td>\n",
       "      <td>23</td>\n",
       "      <td>5</td>\n",
       "      <td>6</td>\n",
       "      <td>TIDAK</td>\n",
       "    </tr>\n",
       "    <tr>\n",
       "      <th>38</th>\n",
       "      <td>Mekan</td>\n",
       "      <td>7</td>\n",
       "      <td>17</td>\n",
       "      <td>2</td>\n",
       "      <td>7</td>\n",
       "      <td>TUNDA</td>\n",
       "    </tr>\n",
       "    <tr>\n",
       "      <th>39</th>\n",
       "      <td>Ksm Budaya 4</td>\n",
       "      <td>1</td>\n",
       "      <td>21</td>\n",
       "      <td>2</td>\n",
       "      <td>8</td>\n",
       "      <td>TIDAK</td>\n",
       "    </tr>\n",
       "    <tr>\n",
       "      <th>40</th>\n",
       "      <td>Umk Warga Mandiri</td>\n",
       "      <td>4</td>\n",
       "      <td>1</td>\n",
       "      <td>2</td>\n",
       "      <td>8</td>\n",
       "      <td>YA</td>\n",
       "    </tr>\n",
       "    <tr>\n",
       "      <th>41</th>\n",
       "      <td>Ksm Kreatif &amp; Koi</td>\n",
       "      <td>7</td>\n",
       "      <td>10</td>\n",
       "      <td>5</td>\n",
       "      <td>4</td>\n",
       "      <td>TIDAK</td>\n",
       "    </tr>\n",
       "    <tr>\n",
       "      <th>42</th>\n",
       "      <td>Sri Lasmini Budiono</td>\n",
       "      <td>1</td>\n",
       "      <td>30</td>\n",
       "      <td>1</td>\n",
       "      <td>6</td>\n",
       "      <td>TUNDA</td>\n",
       "    </tr>\n",
       "    <tr>\n",
       "      <th>43</th>\n",
       "      <td>Umk Sayu Sejahtera</td>\n",
       "      <td>5</td>\n",
       "      <td>8</td>\n",
       "      <td>5</td>\n",
       "      <td>3</td>\n",
       "      <td>TIDAK</td>\n",
       "    </tr>\n",
       "    <tr>\n",
       "      <th>44</th>\n",
       "      <td>Windu Collection</td>\n",
       "      <td>2</td>\n",
       "      <td>26</td>\n",
       "      <td>2</td>\n",
       "      <td>9</td>\n",
       "      <td>YA</td>\n",
       "    </tr>\n",
       "  </tbody>\n",
       "</table>\n",
       "</div>"
      ],
      "text/plain": [
       "               NAMA UKM  LAMA USAHA(dlm tahun)  JUMLAH PEKERJA  \\\n",
       "0        Sanggar Azalea                      2              14   \n",
       "1     Kedurus Sejahtera                      6               7   \n",
       "2   Rapi Ayu Handycraft                      4              16   \n",
       "3         Jaya Komputer                      2               9   \n",
       "4               Purnama                      1               9   \n",
       "5         Kencana Craft                      3              22   \n",
       "6     V-Tri Accessories                      4              14   \n",
       "7      Maju Jaya Sablon                      5               1   \n",
       "8        Batik Semanggi                      6               1   \n",
       "9       Sunrise Picture                      7              13   \n",
       "10        Mitra Mandiri                      4               3   \n",
       "11                Liana                      0              15   \n",
       "12              Madekan                      7              15   \n",
       "13             Temuwati                      2              26   \n",
       "14     Eva Nur Fadillah                      5              23   \n",
       "15    Sri Sulatiningsih                      3              18   \n",
       "16            Warna Ayu                      7              20   \n",
       "17         Ukm Jasierah                      3               2   \n",
       "18                Nurul                      6              16   \n",
       "19              Pujiati                      0              24   \n",
       "20            Indrayani                      2              18   \n",
       "21            Ksm Kurma                      0               5   \n",
       "22   Ukm Danadipa Etnik                      3              10   \n",
       "23           Ukm Enfina                      3              25   \n",
       "24            Ksm Lezat                      2               4   \n",
       "25    Andyni Collection                      7              30   \n",
       "26    Ananda Collection                      6               3   \n",
       "27     Umk Rumpun Bambu                      5              19   \n",
       "28        Umk Flamboyan                      4              25   \n",
       "29        Umk Tandu A.W                      3               3   \n",
       "30          Umk Prayogi                      7              19   \n",
       "31  Umk Dian Collection                      1              24   \n",
       "32        Kelompok Tani                      4              20   \n",
       "33            Umi Hanik                      2              12   \n",
       "34          Lilik Yulfa                      7              29   \n",
       "35     Titik Suprihatin                      5               3   \n",
       "36       Tutik Jaslikan                      5               6   \n",
       "37               Subaun                      4              23   \n",
       "38                Mekan                      7              17   \n",
       "39         Ksm Budaya 4                      1              21   \n",
       "40    Umk Warga Mandiri                      4               1   \n",
       "41    Ksm Kreatif & Koi                      7              10   \n",
       "42  Sri Lasmini Budiono                      1              30   \n",
       "43   Umk Sayu Sejahtera                      5               8   \n",
       "44     Windu Collection                      2              26   \n",
       "\n",
       "    OMZET (dlm juta)  JUMLAH ASET HASIL KEPUTUSAN  \n",
       "0                  3            2           TUNDA  \n",
       "1                  5            4           TIDAK  \n",
       "2                  1           10           TUNDA  \n",
       "3                  2            2           TUNDA  \n",
       "4                  5            4           TUNDA  \n",
       "5                  2            1           TUNDA  \n",
       "6                  2            3           TIDAK  \n",
       "7                  3            2              YA  \n",
       "8                  2            3              YA  \n",
       "9                  5           10           TIDAK  \n",
       "10                 3            6              YA  \n",
       "11                 3            6           TIDAK  \n",
       "12                 3            8              YA  \n",
       "13                 1            8           TIDAK  \n",
       "14                 3           10           TUNDA  \n",
       "15                 5            7           TUNDA  \n",
       "16                 3            6              YA  \n",
       "17                 2            9           TIDAK  \n",
       "18                 5            7              YA  \n",
       "19                 3            1              YA  \n",
       "20                 1            8           TIDAK  \n",
       "21                 2            5           TUNDA  \n",
       "22                 1            1           TUNDA  \n",
       "23                 4            6           TIDAK  \n",
       "24                 1            1           TIDAK  \n",
       "25                 1            3              YA  \n",
       "26                 4            7           TIDAK  \n",
       "27                 5            2              YA  \n",
       "28                 2            4              YA  \n",
       "29                 2            4           TUNDA  \n",
       "30                 5            3           TUNDA  \n",
       "31                 5            7              YA  \n",
       "32                 4            1              YA  \n",
       "33                 4            4           TIDAK  \n",
       "34                 5            2              YA  \n",
       "35                 1            2              YA  \n",
       "36                 1            6           TIDAK  \n",
       "37                 5            6           TIDAK  \n",
       "38                 2            7           TUNDA  \n",
       "39                 2            8           TIDAK  \n",
       "40                 2            8              YA  \n",
       "41                 5            4           TIDAK  \n",
       "42                 1            6           TUNDA  \n",
       "43                 5            3           TIDAK  \n",
       "44                 2            9              YA  "
      ]
     },
     "execution_count": 2,
     "metadata": {},
     "output_type": "execute_result"
    }
   ],
   "source": [
    "dataPenerimaDf = pd.read_csv(\"./data/AI 2019-2020 Dataset Naive Bayes - Sheet1.csv\")\n",
    "dataPenerimaDf"
   ]
  },
  {
   "cell_type": "code",
   "execution_count": 3,
   "metadata": {},
   "outputs": [
    {
     "data": {
      "text/html": [
       "<div>\n",
       "<style scoped>\n",
       "    .dataframe tbody tr th:only-of-type {\n",
       "        vertical-align: middle;\n",
       "    }\n",
       "\n",
       "    .dataframe tbody tr th {\n",
       "        vertical-align: top;\n",
       "    }\n",
       "\n",
       "    .dataframe thead th {\n",
       "        text-align: right;\n",
       "    }\n",
       "</style>\n",
       "<table border=\"1\" class=\"dataframe\">\n",
       "  <thead>\n",
       "    <tr style=\"text-align: right;\">\n",
       "      <th></th>\n",
       "      <th>NAMA UKM</th>\n",
       "      <th>LAMA USAHA(dlm tahun)</th>\n",
       "      <th>JUMLAH PEKERJA</th>\n",
       "      <th>OMZET (dlm juta)</th>\n",
       "      <th>JUMLAH ASET</th>\n",
       "      <th>HASIL KEPUTUSAN</th>\n",
       "    </tr>\n",
       "  </thead>\n",
       "  <tbody>\n",
       "    <tr>\n",
       "      <th>33</th>\n",
       "      <td>Umi Hanik</td>\n",
       "      <td>2</td>\n",
       "      <td>12</td>\n",
       "      <td>4</td>\n",
       "      <td>4</td>\n",
       "      <td>TIDAK</td>\n",
       "    </tr>\n",
       "    <tr>\n",
       "      <th>23</th>\n",
       "      <td>Ukm Enfina</td>\n",
       "      <td>3</td>\n",
       "      <td>25</td>\n",
       "      <td>4</td>\n",
       "      <td>6</td>\n",
       "      <td>TIDAK</td>\n",
       "    </tr>\n",
       "    <tr>\n",
       "      <th>17</th>\n",
       "      <td>Ukm Jasierah</td>\n",
       "      <td>3</td>\n",
       "      <td>2</td>\n",
       "      <td>2</td>\n",
       "      <td>9</td>\n",
       "      <td>TIDAK</td>\n",
       "    </tr>\n",
       "    <tr>\n",
       "      <th>24</th>\n",
       "      <td>Ksm Lezat</td>\n",
       "      <td>2</td>\n",
       "      <td>4</td>\n",
       "      <td>1</td>\n",
       "      <td>1</td>\n",
       "      <td>TIDAK</td>\n",
       "    </tr>\n",
       "    <tr>\n",
       "      <th>26</th>\n",
       "      <td>Ananda Collection</td>\n",
       "      <td>6</td>\n",
       "      <td>3</td>\n",
       "      <td>4</td>\n",
       "      <td>7</td>\n",
       "      <td>TIDAK</td>\n",
       "    </tr>\n",
       "    <tr>\n",
       "      <th>13</th>\n",
       "      <td>Temuwati</td>\n",
       "      <td>2</td>\n",
       "      <td>26</td>\n",
       "      <td>1</td>\n",
       "      <td>8</td>\n",
       "      <td>TIDAK</td>\n",
       "    </tr>\n",
       "    <tr>\n",
       "      <th>11</th>\n",
       "      <td>Liana</td>\n",
       "      <td>0</td>\n",
       "      <td>15</td>\n",
       "      <td>3</td>\n",
       "      <td>6</td>\n",
       "      <td>TIDAK</td>\n",
       "    </tr>\n",
       "    <tr>\n",
       "      <th>43</th>\n",
       "      <td>Umk Sayu Sejahtera</td>\n",
       "      <td>5</td>\n",
       "      <td>8</td>\n",
       "      <td>5</td>\n",
       "      <td>3</td>\n",
       "      <td>TIDAK</td>\n",
       "    </tr>\n",
       "    <tr>\n",
       "      <th>9</th>\n",
       "      <td>Sunrise Picture</td>\n",
       "      <td>7</td>\n",
       "      <td>13</td>\n",
       "      <td>5</td>\n",
       "      <td>10</td>\n",
       "      <td>TIDAK</td>\n",
       "    </tr>\n",
       "    <tr>\n",
       "      <th>20</th>\n",
       "      <td>Indrayani</td>\n",
       "      <td>2</td>\n",
       "      <td>18</td>\n",
       "      <td>1</td>\n",
       "      <td>8</td>\n",
       "      <td>TIDAK</td>\n",
       "    </tr>\n",
       "    <tr>\n",
       "      <th>37</th>\n",
       "      <td>Subaun</td>\n",
       "      <td>4</td>\n",
       "      <td>23</td>\n",
       "      <td>5</td>\n",
       "      <td>6</td>\n",
       "      <td>TIDAK</td>\n",
       "    </tr>\n",
       "    <tr>\n",
       "      <th>6</th>\n",
       "      <td>V-Tri Accessories</td>\n",
       "      <td>4</td>\n",
       "      <td>14</td>\n",
       "      <td>2</td>\n",
       "      <td>3</td>\n",
       "      <td>TIDAK</td>\n",
       "    </tr>\n",
       "    <tr>\n",
       "      <th>39</th>\n",
       "      <td>Ksm Budaya 4</td>\n",
       "      <td>1</td>\n",
       "      <td>21</td>\n",
       "      <td>2</td>\n",
       "      <td>8</td>\n",
       "      <td>TIDAK</td>\n",
       "    </tr>\n",
       "    <tr>\n",
       "      <th>41</th>\n",
       "      <td>Ksm Kreatif &amp; Koi</td>\n",
       "      <td>7</td>\n",
       "      <td>10</td>\n",
       "      <td>5</td>\n",
       "      <td>4</td>\n",
       "      <td>TIDAK</td>\n",
       "    </tr>\n",
       "    <tr>\n",
       "      <th>1</th>\n",
       "      <td>Kedurus Sejahtera</td>\n",
       "      <td>6</td>\n",
       "      <td>7</td>\n",
       "      <td>5</td>\n",
       "      <td>4</td>\n",
       "      <td>TIDAK</td>\n",
       "    </tr>\n",
       "    <tr>\n",
       "      <th>36</th>\n",
       "      <td>Tutik Jaslikan</td>\n",
       "      <td>5</td>\n",
       "      <td>6</td>\n",
       "      <td>1</td>\n",
       "      <td>6</td>\n",
       "      <td>TIDAK</td>\n",
       "    </tr>\n",
       "    <tr>\n",
       "      <th>30</th>\n",
       "      <td>Umk Prayogi</td>\n",
       "      <td>7</td>\n",
       "      <td>19</td>\n",
       "      <td>5</td>\n",
       "      <td>3</td>\n",
       "      <td>TUNDA</td>\n",
       "    </tr>\n",
       "    <tr>\n",
       "      <th>38</th>\n",
       "      <td>Mekan</td>\n",
       "      <td>7</td>\n",
       "      <td>17</td>\n",
       "      <td>2</td>\n",
       "      <td>7</td>\n",
       "      <td>TUNDA</td>\n",
       "    </tr>\n",
       "    <tr>\n",
       "      <th>29</th>\n",
       "      <td>Umk Tandu A.W</td>\n",
       "      <td>3</td>\n",
       "      <td>3</td>\n",
       "      <td>2</td>\n",
       "      <td>4</td>\n",
       "      <td>TUNDA</td>\n",
       "    </tr>\n",
       "    <tr>\n",
       "      <th>42</th>\n",
       "      <td>Sri Lasmini Budiono</td>\n",
       "      <td>1</td>\n",
       "      <td>30</td>\n",
       "      <td>1</td>\n",
       "      <td>6</td>\n",
       "      <td>TUNDA</td>\n",
       "    </tr>\n",
       "    <tr>\n",
       "      <th>0</th>\n",
       "      <td>Sanggar Azalea</td>\n",
       "      <td>2</td>\n",
       "      <td>14</td>\n",
       "      <td>3</td>\n",
       "      <td>2</td>\n",
       "      <td>TUNDA</td>\n",
       "    </tr>\n",
       "    <tr>\n",
       "      <th>22</th>\n",
       "      <td>Ukm Danadipa Etnik</td>\n",
       "      <td>3</td>\n",
       "      <td>10</td>\n",
       "      <td>1</td>\n",
       "      <td>1</td>\n",
       "      <td>TUNDA</td>\n",
       "    </tr>\n",
       "    <tr>\n",
       "      <th>2</th>\n",
       "      <td>Rapi Ayu Handycraft</td>\n",
       "      <td>4</td>\n",
       "      <td>16</td>\n",
       "      <td>1</td>\n",
       "      <td>10</td>\n",
       "      <td>TUNDA</td>\n",
       "    </tr>\n",
       "    <tr>\n",
       "      <th>3</th>\n",
       "      <td>Jaya Komputer</td>\n",
       "      <td>2</td>\n",
       "      <td>9</td>\n",
       "      <td>2</td>\n",
       "      <td>2</td>\n",
       "      <td>TUNDA</td>\n",
       "    </tr>\n",
       "    <tr>\n",
       "      <th>15</th>\n",
       "      <td>Sri Sulatiningsih</td>\n",
       "      <td>3</td>\n",
       "      <td>18</td>\n",
       "      <td>5</td>\n",
       "      <td>7</td>\n",
       "      <td>TUNDA</td>\n",
       "    </tr>\n",
       "    <tr>\n",
       "      <th>4</th>\n",
       "      <td>Purnama</td>\n",
       "      <td>1</td>\n",
       "      <td>9</td>\n",
       "      <td>5</td>\n",
       "      <td>4</td>\n",
       "      <td>TUNDA</td>\n",
       "    </tr>\n",
       "    <tr>\n",
       "      <th>5</th>\n",
       "      <td>Kencana Craft</td>\n",
       "      <td>3</td>\n",
       "      <td>22</td>\n",
       "      <td>2</td>\n",
       "      <td>1</td>\n",
       "      <td>TUNDA</td>\n",
       "    </tr>\n",
       "    <tr>\n",
       "      <th>14</th>\n",
       "      <td>Eva Nur Fadillah</td>\n",
       "      <td>5</td>\n",
       "      <td>23</td>\n",
       "      <td>3</td>\n",
       "      <td>10</td>\n",
       "      <td>TUNDA</td>\n",
       "    </tr>\n",
       "    <tr>\n",
       "      <th>21</th>\n",
       "      <td>Ksm Kurma</td>\n",
       "      <td>0</td>\n",
       "      <td>5</td>\n",
       "      <td>2</td>\n",
       "      <td>5</td>\n",
       "      <td>TUNDA</td>\n",
       "    </tr>\n",
       "    <tr>\n",
       "      <th>19</th>\n",
       "      <td>Pujiati</td>\n",
       "      <td>0</td>\n",
       "      <td>24</td>\n",
       "      <td>3</td>\n",
       "      <td>1</td>\n",
       "      <td>YA</td>\n",
       "    </tr>\n",
       "    <tr>\n",
       "      <th>40</th>\n",
       "      <td>Umk Warga Mandiri</td>\n",
       "      <td>4</td>\n",
       "      <td>1</td>\n",
       "      <td>2</td>\n",
       "      <td>8</td>\n",
       "      <td>YA</td>\n",
       "    </tr>\n",
       "    <tr>\n",
       "      <th>7</th>\n",
       "      <td>Maju Jaya Sablon</td>\n",
       "      <td>5</td>\n",
       "      <td>1</td>\n",
       "      <td>3</td>\n",
       "      <td>2</td>\n",
       "      <td>YA</td>\n",
       "    </tr>\n",
       "    <tr>\n",
       "      <th>8</th>\n",
       "      <td>Batik Semanggi</td>\n",
       "      <td>6</td>\n",
       "      <td>1</td>\n",
       "      <td>2</td>\n",
       "      <td>3</td>\n",
       "      <td>YA</td>\n",
       "    </tr>\n",
       "    <tr>\n",
       "      <th>35</th>\n",
       "      <td>Titik Suprihatin</td>\n",
       "      <td>5</td>\n",
       "      <td>3</td>\n",
       "      <td>1</td>\n",
       "      <td>2</td>\n",
       "      <td>YA</td>\n",
       "    </tr>\n",
       "    <tr>\n",
       "      <th>10</th>\n",
       "      <td>Mitra Mandiri</td>\n",
       "      <td>4</td>\n",
       "      <td>3</td>\n",
       "      <td>3</td>\n",
       "      <td>6</td>\n",
       "      <td>YA</td>\n",
       "    </tr>\n",
       "    <tr>\n",
       "      <th>32</th>\n",
       "      <td>Kelompok Tani</td>\n",
       "      <td>4</td>\n",
       "      <td>20</td>\n",
       "      <td>4</td>\n",
       "      <td>1</td>\n",
       "      <td>YA</td>\n",
       "    </tr>\n",
       "    <tr>\n",
       "      <th>31</th>\n",
       "      <td>Umk Dian Collection</td>\n",
       "      <td>1</td>\n",
       "      <td>24</td>\n",
       "      <td>5</td>\n",
       "      <td>7</td>\n",
       "      <td>YA</td>\n",
       "    </tr>\n",
       "    <tr>\n",
       "      <th>12</th>\n",
       "      <td>Madekan</td>\n",
       "      <td>7</td>\n",
       "      <td>15</td>\n",
       "      <td>3</td>\n",
       "      <td>8</td>\n",
       "      <td>YA</td>\n",
       "    </tr>\n",
       "    <tr>\n",
       "      <th>28</th>\n",
       "      <td>Umk Flamboyan</td>\n",
       "      <td>4</td>\n",
       "      <td>25</td>\n",
       "      <td>2</td>\n",
       "      <td>4</td>\n",
       "      <td>YA</td>\n",
       "    </tr>\n",
       "    <tr>\n",
       "      <th>27</th>\n",
       "      <td>Umk Rumpun Bambu</td>\n",
       "      <td>5</td>\n",
       "      <td>19</td>\n",
       "      <td>5</td>\n",
       "      <td>2</td>\n",
       "      <td>YA</td>\n",
       "    </tr>\n",
       "    <tr>\n",
       "      <th>25</th>\n",
       "      <td>Andyni Collection</td>\n",
       "      <td>7</td>\n",
       "      <td>30</td>\n",
       "      <td>1</td>\n",
       "      <td>3</td>\n",
       "      <td>YA</td>\n",
       "    </tr>\n",
       "    <tr>\n",
       "      <th>16</th>\n",
       "      <td>Warna Ayu</td>\n",
       "      <td>7</td>\n",
       "      <td>20</td>\n",
       "      <td>3</td>\n",
       "      <td>6</td>\n",
       "      <td>YA</td>\n",
       "    </tr>\n",
       "    <tr>\n",
       "      <th>18</th>\n",
       "      <td>Nurul</td>\n",
       "      <td>6</td>\n",
       "      <td>16</td>\n",
       "      <td>5</td>\n",
       "      <td>7</td>\n",
       "      <td>YA</td>\n",
       "    </tr>\n",
       "    <tr>\n",
       "      <th>34</th>\n",
       "      <td>Lilik Yulfa</td>\n",
       "      <td>7</td>\n",
       "      <td>29</td>\n",
       "      <td>5</td>\n",
       "      <td>2</td>\n",
       "      <td>YA</td>\n",
       "    </tr>\n",
       "    <tr>\n",
       "      <th>44</th>\n",
       "      <td>Windu Collection</td>\n",
       "      <td>2</td>\n",
       "      <td>26</td>\n",
       "      <td>2</td>\n",
       "      <td>9</td>\n",
       "      <td>YA</td>\n",
       "    </tr>\n",
       "  </tbody>\n",
       "</table>\n",
       "</div>"
      ],
      "text/plain": [
       "               NAMA UKM  LAMA USAHA(dlm tahun)  JUMLAH PEKERJA  \\\n",
       "33            Umi Hanik                      2              12   \n",
       "23           Ukm Enfina                      3              25   \n",
       "17         Ukm Jasierah                      3               2   \n",
       "24            Ksm Lezat                      2               4   \n",
       "26    Ananda Collection                      6               3   \n",
       "13             Temuwati                      2              26   \n",
       "11                Liana                      0              15   \n",
       "43   Umk Sayu Sejahtera                      5               8   \n",
       "9       Sunrise Picture                      7              13   \n",
       "20            Indrayani                      2              18   \n",
       "37               Subaun                      4              23   \n",
       "6     V-Tri Accessories                      4              14   \n",
       "39         Ksm Budaya 4                      1              21   \n",
       "41    Ksm Kreatif & Koi                      7              10   \n",
       "1     Kedurus Sejahtera                      6               7   \n",
       "36       Tutik Jaslikan                      5               6   \n",
       "30          Umk Prayogi                      7              19   \n",
       "38                Mekan                      7              17   \n",
       "29        Umk Tandu A.W                      3               3   \n",
       "42  Sri Lasmini Budiono                      1              30   \n",
       "0        Sanggar Azalea                      2              14   \n",
       "22   Ukm Danadipa Etnik                      3              10   \n",
       "2   Rapi Ayu Handycraft                      4              16   \n",
       "3         Jaya Komputer                      2               9   \n",
       "15    Sri Sulatiningsih                      3              18   \n",
       "4               Purnama                      1               9   \n",
       "5         Kencana Craft                      3              22   \n",
       "14     Eva Nur Fadillah                      5              23   \n",
       "21            Ksm Kurma                      0               5   \n",
       "19              Pujiati                      0              24   \n",
       "40    Umk Warga Mandiri                      4               1   \n",
       "7      Maju Jaya Sablon                      5               1   \n",
       "8        Batik Semanggi                      6               1   \n",
       "35     Titik Suprihatin                      5               3   \n",
       "10        Mitra Mandiri                      4               3   \n",
       "32        Kelompok Tani                      4              20   \n",
       "31  Umk Dian Collection                      1              24   \n",
       "12              Madekan                      7              15   \n",
       "28        Umk Flamboyan                      4              25   \n",
       "27     Umk Rumpun Bambu                      5              19   \n",
       "25    Andyni Collection                      7              30   \n",
       "16            Warna Ayu                      7              20   \n",
       "18                Nurul                      6              16   \n",
       "34          Lilik Yulfa                      7              29   \n",
       "44     Windu Collection                      2              26   \n",
       "\n",
       "    OMZET (dlm juta)  JUMLAH ASET HASIL KEPUTUSAN  \n",
       "33                 4            4           TIDAK  \n",
       "23                 4            6           TIDAK  \n",
       "17                 2            9           TIDAK  \n",
       "24                 1            1           TIDAK  \n",
       "26                 4            7           TIDAK  \n",
       "13                 1            8           TIDAK  \n",
       "11                 3            6           TIDAK  \n",
       "43                 5            3           TIDAK  \n",
       "9                  5           10           TIDAK  \n",
       "20                 1            8           TIDAK  \n",
       "37                 5            6           TIDAK  \n",
       "6                  2            3           TIDAK  \n",
       "39                 2            8           TIDAK  \n",
       "41                 5            4           TIDAK  \n",
       "1                  5            4           TIDAK  \n",
       "36                 1            6           TIDAK  \n",
       "30                 5            3           TUNDA  \n",
       "38                 2            7           TUNDA  \n",
       "29                 2            4           TUNDA  \n",
       "42                 1            6           TUNDA  \n",
       "0                  3            2           TUNDA  \n",
       "22                 1            1           TUNDA  \n",
       "2                  1           10           TUNDA  \n",
       "3                  2            2           TUNDA  \n",
       "15                 5            7           TUNDA  \n",
       "4                  5            4           TUNDA  \n",
       "5                  2            1           TUNDA  \n",
       "14                 3           10           TUNDA  \n",
       "21                 2            5           TUNDA  \n",
       "19                 3            1              YA  \n",
       "40                 2            8              YA  \n",
       "7                  3            2              YA  \n",
       "8                  2            3              YA  \n",
       "35                 1            2              YA  \n",
       "10                 3            6              YA  \n",
       "32                 4            1              YA  \n",
       "31                 5            7              YA  \n",
       "12                 3            8              YA  \n",
       "28                 2            4              YA  \n",
       "27                 5            2              YA  \n",
       "25                 1            3              YA  \n",
       "16                 3            6              YA  \n",
       "18                 5            7              YA  \n",
       "34                 5            2              YA  \n",
       "44                 2            9              YA  "
      ]
     },
     "execution_count": 3,
     "metadata": {},
     "output_type": "execute_result"
    }
   ],
   "source": [
    "sortedDf = dataPenerimaDf.sort_values(\"HASIL KEPUTUSAN\")\n",
    "sortedDf"
   ]
  },
  {
   "cell_type": "code",
   "execution_count": 4,
   "metadata": {},
   "outputs": [
    {
     "data": {
      "text/html": [
       "<div>\n",
       "<style scoped>\n",
       "    .dataframe tbody tr th:only-of-type {\n",
       "        vertical-align: middle;\n",
       "    }\n",
       "\n",
       "    .dataframe tbody tr th {\n",
       "        vertical-align: top;\n",
       "    }\n",
       "\n",
       "    .dataframe thead th {\n",
       "        text-align: right;\n",
       "    }\n",
       "</style>\n",
       "<table border=\"1\" class=\"dataframe\">\n",
       "  <thead>\n",
       "    <tr style=\"text-align: right;\">\n",
       "      <th></th>\n",
       "      <th>NAMA UKM</th>\n",
       "      <th>LAMA USAHA(dlm tahun)</th>\n",
       "      <th>JUMLAH PEKERJA</th>\n",
       "      <th>OMZET (dlm juta)</th>\n",
       "      <th>JUMLAH ASET</th>\n",
       "      <th>HASIL KEPUTUSAN</th>\n",
       "    </tr>\n",
       "  </thead>\n",
       "  <tbody>\n",
       "    <tr>\n",
       "      <th>7</th>\n",
       "      <td>Maju Jaya Sablon</td>\n",
       "      <td>5</td>\n",
       "      <td>1</td>\n",
       "      <td>3</td>\n",
       "      <td>2</td>\n",
       "      <td>YA</td>\n",
       "    </tr>\n",
       "    <tr>\n",
       "      <th>8</th>\n",
       "      <td>Batik Semanggi</td>\n",
       "      <td>6</td>\n",
       "      <td>1</td>\n",
       "      <td>2</td>\n",
       "      <td>3</td>\n",
       "      <td>YA</td>\n",
       "    </tr>\n",
       "    <tr>\n",
       "      <th>10</th>\n",
       "      <td>Mitra Mandiri</td>\n",
       "      <td>4</td>\n",
       "      <td>3</td>\n",
       "      <td>3</td>\n",
       "      <td>6</td>\n",
       "      <td>YA</td>\n",
       "    </tr>\n",
       "    <tr>\n",
       "      <th>12</th>\n",
       "      <td>Madekan</td>\n",
       "      <td>7</td>\n",
       "      <td>15</td>\n",
       "      <td>3</td>\n",
       "      <td>8</td>\n",
       "      <td>YA</td>\n",
       "    </tr>\n",
       "    <tr>\n",
       "      <th>16</th>\n",
       "      <td>Warna Ayu</td>\n",
       "      <td>7</td>\n",
       "      <td>20</td>\n",
       "      <td>3</td>\n",
       "      <td>6</td>\n",
       "      <td>YA</td>\n",
       "    </tr>\n",
       "    <tr>\n",
       "      <th>18</th>\n",
       "      <td>Nurul</td>\n",
       "      <td>6</td>\n",
       "      <td>16</td>\n",
       "      <td>5</td>\n",
       "      <td>7</td>\n",
       "      <td>YA</td>\n",
       "    </tr>\n",
       "    <tr>\n",
       "      <th>19</th>\n",
       "      <td>Pujiati</td>\n",
       "      <td>0</td>\n",
       "      <td>24</td>\n",
       "      <td>3</td>\n",
       "      <td>1</td>\n",
       "      <td>YA</td>\n",
       "    </tr>\n",
       "    <tr>\n",
       "      <th>25</th>\n",
       "      <td>Andyni Collection</td>\n",
       "      <td>7</td>\n",
       "      <td>30</td>\n",
       "      <td>1</td>\n",
       "      <td>3</td>\n",
       "      <td>YA</td>\n",
       "    </tr>\n",
       "    <tr>\n",
       "      <th>27</th>\n",
       "      <td>Umk Rumpun Bambu</td>\n",
       "      <td>5</td>\n",
       "      <td>19</td>\n",
       "      <td>5</td>\n",
       "      <td>2</td>\n",
       "      <td>YA</td>\n",
       "    </tr>\n",
       "    <tr>\n",
       "      <th>28</th>\n",
       "      <td>Umk Flamboyan</td>\n",
       "      <td>4</td>\n",
       "      <td>25</td>\n",
       "      <td>2</td>\n",
       "      <td>4</td>\n",
       "      <td>YA</td>\n",
       "    </tr>\n",
       "    <tr>\n",
       "      <th>31</th>\n",
       "      <td>Umk Dian Collection</td>\n",
       "      <td>1</td>\n",
       "      <td>24</td>\n",
       "      <td>5</td>\n",
       "      <td>7</td>\n",
       "      <td>YA</td>\n",
       "    </tr>\n",
       "    <tr>\n",
       "      <th>32</th>\n",
       "      <td>Kelompok Tani</td>\n",
       "      <td>4</td>\n",
       "      <td>20</td>\n",
       "      <td>4</td>\n",
       "      <td>1</td>\n",
       "      <td>YA</td>\n",
       "    </tr>\n",
       "    <tr>\n",
       "      <th>34</th>\n",
       "      <td>Lilik Yulfa</td>\n",
       "      <td>7</td>\n",
       "      <td>29</td>\n",
       "      <td>5</td>\n",
       "      <td>2</td>\n",
       "      <td>YA</td>\n",
       "    </tr>\n",
       "    <tr>\n",
       "      <th>35</th>\n",
       "      <td>Titik Suprihatin</td>\n",
       "      <td>5</td>\n",
       "      <td>3</td>\n",
       "      <td>1</td>\n",
       "      <td>2</td>\n",
       "      <td>YA</td>\n",
       "    </tr>\n",
       "    <tr>\n",
       "      <th>40</th>\n",
       "      <td>Umk Warga Mandiri</td>\n",
       "      <td>4</td>\n",
       "      <td>1</td>\n",
       "      <td>2</td>\n",
       "      <td>8</td>\n",
       "      <td>YA</td>\n",
       "    </tr>\n",
       "    <tr>\n",
       "      <th>44</th>\n",
       "      <td>Windu Collection</td>\n",
       "      <td>2</td>\n",
       "      <td>26</td>\n",
       "      <td>2</td>\n",
       "      <td>9</td>\n",
       "      <td>YA</td>\n",
       "    </tr>\n",
       "  </tbody>\n",
       "</table>\n",
       "</div>"
      ],
      "text/plain": [
       "               NAMA UKM  LAMA USAHA(dlm tahun)  JUMLAH PEKERJA  \\\n",
       "7      Maju Jaya Sablon                      5               1   \n",
       "8        Batik Semanggi                      6               1   \n",
       "10        Mitra Mandiri                      4               3   \n",
       "12              Madekan                      7              15   \n",
       "16            Warna Ayu                      7              20   \n",
       "18                Nurul                      6              16   \n",
       "19              Pujiati                      0              24   \n",
       "25    Andyni Collection                      7              30   \n",
       "27     Umk Rumpun Bambu                      5              19   \n",
       "28        Umk Flamboyan                      4              25   \n",
       "31  Umk Dian Collection                      1              24   \n",
       "32        Kelompok Tani                      4              20   \n",
       "34          Lilik Yulfa                      7              29   \n",
       "35     Titik Suprihatin                      5               3   \n",
       "40    Umk Warga Mandiri                      4               1   \n",
       "44     Windu Collection                      2              26   \n",
       "\n",
       "    OMZET (dlm juta)  JUMLAH ASET HASIL KEPUTUSAN  \n",
       "7                  3            2              YA  \n",
       "8                  2            3              YA  \n",
       "10                 3            6              YA  \n",
       "12                 3            8              YA  \n",
       "16                 3            6              YA  \n",
       "18                 5            7              YA  \n",
       "19                 3            1              YA  \n",
       "25                 1            3              YA  \n",
       "27                 5            2              YA  \n",
       "28                 2            4              YA  \n",
       "31                 5            7              YA  \n",
       "32                 4            1              YA  \n",
       "34                 5            2              YA  \n",
       "35                 1            2              YA  \n",
       "40                 2            8              YA  \n",
       "44                 2            9              YA  "
      ]
     },
     "execution_count": 4,
     "metadata": {},
     "output_type": "execute_result"
    }
   ],
   "source": [
    "dataKeseluruhanYa = dataPenerimaDf.loc[dataPenerimaDf['HASIL KEPUTUSAN'] == 'YA']\n",
    "dataKeseluruhanYa"
   ]
  },
  {
   "cell_type": "code",
   "execution_count": 5,
   "metadata": {},
   "outputs": [
    {
     "data": {
      "text/html": [
       "<div>\n",
       "<style scoped>\n",
       "    .dataframe tbody tr th:only-of-type {\n",
       "        vertical-align: middle;\n",
       "    }\n",
       "\n",
       "    .dataframe tbody tr th {\n",
       "        vertical-align: top;\n",
       "    }\n",
       "\n",
       "    .dataframe thead th {\n",
       "        text-align: right;\n",
       "    }\n",
       "</style>\n",
       "<table border=\"1\" class=\"dataframe\">\n",
       "  <thead>\n",
       "    <tr style=\"text-align: right;\">\n",
       "      <th></th>\n",
       "      <th>NAMA UKM</th>\n",
       "      <th>LAMA USAHA(dlm tahun)</th>\n",
       "      <th>JUMLAH PEKERJA</th>\n",
       "      <th>OMZET (dlm juta)</th>\n",
       "      <th>JUMLAH ASET</th>\n",
       "      <th>HASIL KEPUTUSAN</th>\n",
       "    </tr>\n",
       "  </thead>\n",
       "  <tbody>\n",
       "    <tr>\n",
       "      <th>0</th>\n",
       "      <td>Sanggar Azalea</td>\n",
       "      <td>2</td>\n",
       "      <td>14</td>\n",
       "      <td>3</td>\n",
       "      <td>2</td>\n",
       "      <td>TUNDA</td>\n",
       "    </tr>\n",
       "    <tr>\n",
       "      <th>2</th>\n",
       "      <td>Rapi Ayu Handycraft</td>\n",
       "      <td>4</td>\n",
       "      <td>16</td>\n",
       "      <td>1</td>\n",
       "      <td>10</td>\n",
       "      <td>TUNDA</td>\n",
       "    </tr>\n",
       "    <tr>\n",
       "      <th>3</th>\n",
       "      <td>Jaya Komputer</td>\n",
       "      <td>2</td>\n",
       "      <td>9</td>\n",
       "      <td>2</td>\n",
       "      <td>2</td>\n",
       "      <td>TUNDA</td>\n",
       "    </tr>\n",
       "    <tr>\n",
       "      <th>4</th>\n",
       "      <td>Purnama</td>\n",
       "      <td>1</td>\n",
       "      <td>9</td>\n",
       "      <td>5</td>\n",
       "      <td>4</td>\n",
       "      <td>TUNDA</td>\n",
       "    </tr>\n",
       "    <tr>\n",
       "      <th>5</th>\n",
       "      <td>Kencana Craft</td>\n",
       "      <td>3</td>\n",
       "      <td>22</td>\n",
       "      <td>2</td>\n",
       "      <td>1</td>\n",
       "      <td>TUNDA</td>\n",
       "    </tr>\n",
       "    <tr>\n",
       "      <th>14</th>\n",
       "      <td>Eva Nur Fadillah</td>\n",
       "      <td>5</td>\n",
       "      <td>23</td>\n",
       "      <td>3</td>\n",
       "      <td>10</td>\n",
       "      <td>TUNDA</td>\n",
       "    </tr>\n",
       "    <tr>\n",
       "      <th>15</th>\n",
       "      <td>Sri Sulatiningsih</td>\n",
       "      <td>3</td>\n",
       "      <td>18</td>\n",
       "      <td>5</td>\n",
       "      <td>7</td>\n",
       "      <td>TUNDA</td>\n",
       "    </tr>\n",
       "    <tr>\n",
       "      <th>21</th>\n",
       "      <td>Ksm Kurma</td>\n",
       "      <td>0</td>\n",
       "      <td>5</td>\n",
       "      <td>2</td>\n",
       "      <td>5</td>\n",
       "      <td>TUNDA</td>\n",
       "    </tr>\n",
       "    <tr>\n",
       "      <th>22</th>\n",
       "      <td>Ukm Danadipa Etnik</td>\n",
       "      <td>3</td>\n",
       "      <td>10</td>\n",
       "      <td>1</td>\n",
       "      <td>1</td>\n",
       "      <td>TUNDA</td>\n",
       "    </tr>\n",
       "    <tr>\n",
       "      <th>29</th>\n",
       "      <td>Umk Tandu A.W</td>\n",
       "      <td>3</td>\n",
       "      <td>3</td>\n",
       "      <td>2</td>\n",
       "      <td>4</td>\n",
       "      <td>TUNDA</td>\n",
       "    </tr>\n",
       "    <tr>\n",
       "      <th>30</th>\n",
       "      <td>Umk Prayogi</td>\n",
       "      <td>7</td>\n",
       "      <td>19</td>\n",
       "      <td>5</td>\n",
       "      <td>3</td>\n",
       "      <td>TUNDA</td>\n",
       "    </tr>\n",
       "    <tr>\n",
       "      <th>38</th>\n",
       "      <td>Mekan</td>\n",
       "      <td>7</td>\n",
       "      <td>17</td>\n",
       "      <td>2</td>\n",
       "      <td>7</td>\n",
       "      <td>TUNDA</td>\n",
       "    </tr>\n",
       "    <tr>\n",
       "      <th>42</th>\n",
       "      <td>Sri Lasmini Budiono</td>\n",
       "      <td>1</td>\n",
       "      <td>30</td>\n",
       "      <td>1</td>\n",
       "      <td>6</td>\n",
       "      <td>TUNDA</td>\n",
       "    </tr>\n",
       "  </tbody>\n",
       "</table>\n",
       "</div>"
      ],
      "text/plain": [
       "               NAMA UKM  LAMA USAHA(dlm tahun)  JUMLAH PEKERJA  \\\n",
       "0        Sanggar Azalea                      2              14   \n",
       "2   Rapi Ayu Handycraft                      4              16   \n",
       "3         Jaya Komputer                      2               9   \n",
       "4               Purnama                      1               9   \n",
       "5         Kencana Craft                      3              22   \n",
       "14     Eva Nur Fadillah                      5              23   \n",
       "15    Sri Sulatiningsih                      3              18   \n",
       "21            Ksm Kurma                      0               5   \n",
       "22   Ukm Danadipa Etnik                      3              10   \n",
       "29        Umk Tandu A.W                      3               3   \n",
       "30          Umk Prayogi                      7              19   \n",
       "38                Mekan                      7              17   \n",
       "42  Sri Lasmini Budiono                      1              30   \n",
       "\n",
       "    OMZET (dlm juta)  JUMLAH ASET HASIL KEPUTUSAN  \n",
       "0                  3            2           TUNDA  \n",
       "2                  1           10           TUNDA  \n",
       "3                  2            2           TUNDA  \n",
       "4                  5            4           TUNDA  \n",
       "5                  2            1           TUNDA  \n",
       "14                 3           10           TUNDA  \n",
       "15                 5            7           TUNDA  \n",
       "21                 2            5           TUNDA  \n",
       "22                 1            1           TUNDA  \n",
       "29                 2            4           TUNDA  \n",
       "30                 5            3           TUNDA  \n",
       "38                 2            7           TUNDA  \n",
       "42                 1            6           TUNDA  "
      ]
     },
     "execution_count": 5,
     "metadata": {},
     "output_type": "execute_result"
    }
   ],
   "source": [
    "dataKeseluruhanTunda = dataPenerimaDf.loc[dataPenerimaDf['HASIL KEPUTUSAN'] == 'TUNDA']\n",
    "dataKeseluruhanTunda"
   ]
  },
  {
   "cell_type": "code",
   "execution_count": 6,
   "metadata": {},
   "outputs": [
    {
     "data": {
      "text/html": [
       "<div>\n",
       "<style scoped>\n",
       "    .dataframe tbody tr th:only-of-type {\n",
       "        vertical-align: middle;\n",
       "    }\n",
       "\n",
       "    .dataframe tbody tr th {\n",
       "        vertical-align: top;\n",
       "    }\n",
       "\n",
       "    .dataframe thead th {\n",
       "        text-align: right;\n",
       "    }\n",
       "</style>\n",
       "<table border=\"1\" class=\"dataframe\">\n",
       "  <thead>\n",
       "    <tr style=\"text-align: right;\">\n",
       "      <th></th>\n",
       "      <th>NAMA UKM</th>\n",
       "      <th>LAMA USAHA(dlm tahun)</th>\n",
       "      <th>JUMLAH PEKERJA</th>\n",
       "      <th>OMZET (dlm juta)</th>\n",
       "      <th>JUMLAH ASET</th>\n",
       "      <th>HASIL KEPUTUSAN</th>\n",
       "    </tr>\n",
       "  </thead>\n",
       "  <tbody>\n",
       "    <tr>\n",
       "      <th>1</th>\n",
       "      <td>Kedurus Sejahtera</td>\n",
       "      <td>6</td>\n",
       "      <td>7</td>\n",
       "      <td>5</td>\n",
       "      <td>4</td>\n",
       "      <td>TIDAK</td>\n",
       "    </tr>\n",
       "    <tr>\n",
       "      <th>6</th>\n",
       "      <td>V-Tri Accessories</td>\n",
       "      <td>4</td>\n",
       "      <td>14</td>\n",
       "      <td>2</td>\n",
       "      <td>3</td>\n",
       "      <td>TIDAK</td>\n",
       "    </tr>\n",
       "    <tr>\n",
       "      <th>9</th>\n",
       "      <td>Sunrise Picture</td>\n",
       "      <td>7</td>\n",
       "      <td>13</td>\n",
       "      <td>5</td>\n",
       "      <td>10</td>\n",
       "      <td>TIDAK</td>\n",
       "    </tr>\n",
       "    <tr>\n",
       "      <th>11</th>\n",
       "      <td>Liana</td>\n",
       "      <td>0</td>\n",
       "      <td>15</td>\n",
       "      <td>3</td>\n",
       "      <td>6</td>\n",
       "      <td>TIDAK</td>\n",
       "    </tr>\n",
       "    <tr>\n",
       "      <th>13</th>\n",
       "      <td>Temuwati</td>\n",
       "      <td>2</td>\n",
       "      <td>26</td>\n",
       "      <td>1</td>\n",
       "      <td>8</td>\n",
       "      <td>TIDAK</td>\n",
       "    </tr>\n",
       "    <tr>\n",
       "      <th>17</th>\n",
       "      <td>Ukm Jasierah</td>\n",
       "      <td>3</td>\n",
       "      <td>2</td>\n",
       "      <td>2</td>\n",
       "      <td>9</td>\n",
       "      <td>TIDAK</td>\n",
       "    </tr>\n",
       "    <tr>\n",
       "      <th>20</th>\n",
       "      <td>Indrayani</td>\n",
       "      <td>2</td>\n",
       "      <td>18</td>\n",
       "      <td>1</td>\n",
       "      <td>8</td>\n",
       "      <td>TIDAK</td>\n",
       "    </tr>\n",
       "    <tr>\n",
       "      <th>23</th>\n",
       "      <td>Ukm Enfina</td>\n",
       "      <td>3</td>\n",
       "      <td>25</td>\n",
       "      <td>4</td>\n",
       "      <td>6</td>\n",
       "      <td>TIDAK</td>\n",
       "    </tr>\n",
       "    <tr>\n",
       "      <th>24</th>\n",
       "      <td>Ksm Lezat</td>\n",
       "      <td>2</td>\n",
       "      <td>4</td>\n",
       "      <td>1</td>\n",
       "      <td>1</td>\n",
       "      <td>TIDAK</td>\n",
       "    </tr>\n",
       "    <tr>\n",
       "      <th>26</th>\n",
       "      <td>Ananda Collection</td>\n",
       "      <td>6</td>\n",
       "      <td>3</td>\n",
       "      <td>4</td>\n",
       "      <td>7</td>\n",
       "      <td>TIDAK</td>\n",
       "    </tr>\n",
       "    <tr>\n",
       "      <th>33</th>\n",
       "      <td>Umi Hanik</td>\n",
       "      <td>2</td>\n",
       "      <td>12</td>\n",
       "      <td>4</td>\n",
       "      <td>4</td>\n",
       "      <td>TIDAK</td>\n",
       "    </tr>\n",
       "    <tr>\n",
       "      <th>36</th>\n",
       "      <td>Tutik Jaslikan</td>\n",
       "      <td>5</td>\n",
       "      <td>6</td>\n",
       "      <td>1</td>\n",
       "      <td>6</td>\n",
       "      <td>TIDAK</td>\n",
       "    </tr>\n",
       "    <tr>\n",
       "      <th>37</th>\n",
       "      <td>Subaun</td>\n",
       "      <td>4</td>\n",
       "      <td>23</td>\n",
       "      <td>5</td>\n",
       "      <td>6</td>\n",
       "      <td>TIDAK</td>\n",
       "    </tr>\n",
       "    <tr>\n",
       "      <th>39</th>\n",
       "      <td>Ksm Budaya 4</td>\n",
       "      <td>1</td>\n",
       "      <td>21</td>\n",
       "      <td>2</td>\n",
       "      <td>8</td>\n",
       "      <td>TIDAK</td>\n",
       "    </tr>\n",
       "    <tr>\n",
       "      <th>41</th>\n",
       "      <td>Ksm Kreatif &amp; Koi</td>\n",
       "      <td>7</td>\n",
       "      <td>10</td>\n",
       "      <td>5</td>\n",
       "      <td>4</td>\n",
       "      <td>TIDAK</td>\n",
       "    </tr>\n",
       "    <tr>\n",
       "      <th>43</th>\n",
       "      <td>Umk Sayu Sejahtera</td>\n",
       "      <td>5</td>\n",
       "      <td>8</td>\n",
       "      <td>5</td>\n",
       "      <td>3</td>\n",
       "      <td>TIDAK</td>\n",
       "    </tr>\n",
       "  </tbody>\n",
       "</table>\n",
       "</div>"
      ],
      "text/plain": [
       "              NAMA UKM  LAMA USAHA(dlm tahun)  JUMLAH PEKERJA  \\\n",
       "1    Kedurus Sejahtera                      6               7   \n",
       "6    V-Tri Accessories                      4              14   \n",
       "9      Sunrise Picture                      7              13   \n",
       "11               Liana                      0              15   \n",
       "13            Temuwati                      2              26   \n",
       "17        Ukm Jasierah                      3               2   \n",
       "20           Indrayani                      2              18   \n",
       "23          Ukm Enfina                      3              25   \n",
       "24           Ksm Lezat                      2               4   \n",
       "26   Ananda Collection                      6               3   \n",
       "33           Umi Hanik                      2              12   \n",
       "36      Tutik Jaslikan                      5               6   \n",
       "37              Subaun                      4              23   \n",
       "39        Ksm Budaya 4                      1              21   \n",
       "41   Ksm Kreatif & Koi                      7              10   \n",
       "43  Umk Sayu Sejahtera                      5               8   \n",
       "\n",
       "    OMZET (dlm juta)  JUMLAH ASET HASIL KEPUTUSAN  \n",
       "1                  5            4           TIDAK  \n",
       "6                  2            3           TIDAK  \n",
       "9                  5           10           TIDAK  \n",
       "11                 3            6           TIDAK  \n",
       "13                 1            8           TIDAK  \n",
       "17                 2            9           TIDAK  \n",
       "20                 1            8           TIDAK  \n",
       "23                 4            6           TIDAK  \n",
       "24                 1            1           TIDAK  \n",
       "26                 4            7           TIDAK  \n",
       "33                 4            4           TIDAK  \n",
       "36                 1            6           TIDAK  \n",
       "37                 5            6           TIDAK  \n",
       "39                 2            8           TIDAK  \n",
       "41                 5            4           TIDAK  \n",
       "43                 5            3           TIDAK  "
      ]
     },
     "execution_count": 6,
     "metadata": {},
     "output_type": "execute_result"
    }
   ],
   "source": [
    "dataKeseluruhanTidak = dataPenerimaDf.loc[dataPenerimaDf['HASIL KEPUTUSAN'] == 'TIDAK']\n",
    "dataKeseluruhanTidak"
   ]
  },
  {
   "cell_type": "code",
   "execution_count": 7,
   "metadata": {},
   "outputs": [
    {
     "data": {
      "text/plain": [
       "[16, 13, 16]"
      ]
     },
     "execution_count": 7,
     "metadata": {},
     "output_type": "execute_result"
    }
   ],
   "source": [
    "dataKeputusan = []\n",
    "dataKeputusan.append(len(dataKeseluruhanYa))\n",
    "dataKeputusan.append(len(dataKeseluruhanTunda))\n",
    "dataKeputusan.append(len(dataKeseluruhanTidak))\n",
    "dataKeputusan"
   ]
  },
  {
   "cell_type": "code",
   "execution_count": 8,
   "metadata": {},
   "outputs": [
    {
     "data": {
      "text/plain": [
       "45"
      ]
     },
     "execution_count": 8,
     "metadata": {},
     "output_type": "execute_result"
    }
   ],
   "source": [
    "jumlahTotal = sum(dataKeputusan)\n",
    "jumlahTotal"
   ]
  },
  {
   "cell_type": "markdown",
   "metadata": {},
   "source": [
    "## LAMA USAHA"
   ]
  },
  {
   "cell_type": "code",
   "execution_count": 9,
   "metadata": {},
   "outputs": [
    {
     "data": {
      "text/plain": [
       "3"
      ]
     },
     "execution_count": 9,
     "metadata": {},
     "output_type": "execute_result"
    }
   ],
   "source": [
    "banyakKecilYaLamaUsaha = len(dataKeseluruhanYa.loc[dataKeseluruhanYa['LAMA USAHA(dlm tahun)'] < 3])\n",
    "banyakKecilYaLamaUsaha"
   ]
  },
  {
   "cell_type": "code",
   "execution_count": 10,
   "metadata": {},
   "outputs": [
    {
     "data": {
      "text/plain": [
       "13"
      ]
     },
     "execution_count": 10,
     "metadata": {},
     "output_type": "execute_result"
    }
   ],
   "source": [
    "banyakMenengahYaLamaUsaha = len(dataKeseluruhanYa.loc[(dataKeseluruhanYa['LAMA USAHA(dlm tahun)'] > 3) & (dataKeseluruhanYa['LAMA USAHA(dlm tahun)'] <= 7)])\n",
    "banyakMenengahYaLamaUsaha"
   ]
  },
  {
   "cell_type": "code",
   "execution_count": 11,
   "metadata": {},
   "outputs": [
    {
     "data": {
      "text/plain": [
       "0"
      ]
     },
     "execution_count": 11,
     "metadata": {},
     "output_type": "execute_result"
    }
   ],
   "source": [
    "banyakBesarYaLamaUsaha = len(dataKeseluruhanYa.loc[dataKeseluruhanYa['LAMA USAHA(dlm tahun)'] >7])\n",
    "banyakBesarYaLamaUsaha"
   ]
  },
  {
   "cell_type": "code",
   "execution_count": 12,
   "metadata": {},
   "outputs": [
    {
     "data": {
      "text/plain": [
       "5"
      ]
     },
     "execution_count": 12,
     "metadata": {},
     "output_type": "execute_result"
    }
   ],
   "source": [
    "banyakKecilTundaLamaUsaha = len(dataKeseluruhanTunda.loc[dataKeseluruhanTunda['LAMA USAHA(dlm tahun)'] < 3])\n",
    "banyakKecilTundaLamaUsaha"
   ]
  },
  {
   "cell_type": "code",
   "execution_count": 13,
   "metadata": {},
   "outputs": [
    {
     "data": {
      "text/plain": [
       "8"
      ]
     },
     "execution_count": 13,
     "metadata": {},
     "output_type": "execute_result"
    }
   ],
   "source": [
    "banyakMenengahTundaLamaUsaha = len(dataKeseluruhanTunda.loc[(dataKeseluruhanTunda['LAMA USAHA(dlm tahun)'] >= 3) & (dataKeseluruhanTunda['LAMA USAHA(dlm tahun)'] <= 7)])\n",
    "banyakMenengahTundaLamaUsaha"
   ]
  },
  {
   "cell_type": "code",
   "execution_count": 14,
   "metadata": {},
   "outputs": [
    {
     "data": {
      "text/plain": [
       "0"
      ]
     },
     "execution_count": 14,
     "metadata": {},
     "output_type": "execute_result"
    }
   ],
   "source": [
    "banyakBesarTundaLamaUsaha = len(dataKeseluruhanTunda.loc[dataKeseluruhanTunda['LAMA USAHA(dlm tahun)'] >7])\n",
    "banyakBesarTundaLamaUsaha"
   ]
  },
  {
   "cell_type": "code",
   "execution_count": 15,
   "metadata": {},
   "outputs": [
    {
     "data": {
      "text/plain": [
       "6"
      ]
     },
     "execution_count": 15,
     "metadata": {},
     "output_type": "execute_result"
    }
   ],
   "source": [
    "banyakKecilTidakLamaUsaha = len(dataKeseluruhanTidak.loc[dataKeseluruhanTidak['LAMA USAHA(dlm tahun)'] < 3])\n",
    "banyakKecilTidakLamaUsaha"
   ]
  },
  {
   "cell_type": "code",
   "execution_count": 16,
   "metadata": {},
   "outputs": [
    {
     "data": {
      "text/plain": [
       "10"
      ]
     },
     "execution_count": 16,
     "metadata": {},
     "output_type": "execute_result"
    }
   ],
   "source": [
    "banyakMenengahTidakLamaUsaha = len(dataKeseluruhanTidak.loc[(dataKeseluruhanTidak['LAMA USAHA(dlm tahun)'] >= 3) & (dataKeseluruhanTidak['LAMA USAHA(dlm tahun)'] <= 7)])\n",
    "banyakMenengahTidakLamaUsaha"
   ]
  },
  {
   "cell_type": "code",
   "execution_count": 17,
   "metadata": {},
   "outputs": [
    {
     "data": {
      "text/plain": [
       "0"
      ]
     },
     "execution_count": 17,
     "metadata": {},
     "output_type": "execute_result"
    }
   ],
   "source": [
    "banyakBesarTidakLamaUsaha = len(dataKeseluruhanTidak.loc[dataKeseluruhanTidak['LAMA USAHA(dlm tahun)'] >7])\n",
    "banyakBesarTidakLamaUsaha"
   ]
  },
  {
   "cell_type": "code",
   "execution_count": 18,
   "metadata": {},
   "outputs": [
    {
     "data": {
      "text/plain": [
       "[[6, 10, 0], [5, 8, 0], [3, 13, 0]]"
      ]
     },
     "execution_count": 18,
     "metadata": {},
     "output_type": "execute_result"
    }
   ],
   "source": [
    "lamaUsaha = []\n",
    "yaLamaUsaha = []\n",
    "tundaLamaUsaha = []\n",
    "tidakLamaUsaha = []\n",
    "yaLamaUsaha.append(banyakKecilYaLamaUsaha)\n",
    "yaLamaUsaha.append(banyakMenengahYaLamaUsaha)\n",
    "yaLamaUsaha.append(banyakBesarYaLamaUsaha)\n",
    "tundaLamaUsaha.append(banyakKecilTundaLamaUsaha)\n",
    "tundaLamaUsaha.append(banyakMenengahTundaLamaUsaha)\n",
    "tundaLamaUsaha.append(banyakBesarTundaLamaUsaha)\n",
    "tidakLamaUsaha.append(banyakKecilTidakLamaUsaha)\n",
    "tidakLamaUsaha.append(banyakMenengahTidakLamaUsaha)\n",
    "tidakLamaUsaha.append(banyakBesarTidakLamaUsaha)\n",
    "lamaUsaha.append(tidakLamaUsaha)\n",
    "lamaUsaha.append(tundaLamaUsaha)\n",
    "lamaUsaha.append(yaLamaUsaha)\n",
    "lamaUsaha"
   ]
  },
  {
   "cell_type": "code",
   "execution_count": 19,
   "metadata": {},
   "outputs": [
    {
     "data": {
      "text/html": [
       "<div>\n",
       "<style scoped>\n",
       "    .dataframe tbody tr th:only-of-type {\n",
       "        vertical-align: middle;\n",
       "    }\n",
       "\n",
       "    .dataframe tbody tr th {\n",
       "        vertical-align: top;\n",
       "    }\n",
       "\n",
       "    .dataframe thead th {\n",
       "        text-align: right;\n",
       "    }\n",
       "</style>\n",
       "<table border=\"1\" class=\"dataframe\">\n",
       "  <thead>\n",
       "    <tr style=\"text-align: right;\">\n",
       "      <th></th>\n",
       "      <th>k</th>\n",
       "      <th>m</th>\n",
       "      <th>b</th>\n",
       "    </tr>\n",
       "  </thead>\n",
       "  <tbody>\n",
       "    <tr>\n",
       "      <th>16</th>\n",
       "      <td>6</td>\n",
       "      <td>10</td>\n",
       "      <td>0</td>\n",
       "    </tr>\n",
       "    <tr>\n",
       "      <th>13</th>\n",
       "      <td>5</td>\n",
       "      <td>8</td>\n",
       "      <td>0</td>\n",
       "    </tr>\n",
       "    <tr>\n",
       "      <th>16</th>\n",
       "      <td>3</td>\n",
       "      <td>13</td>\n",
       "      <td>0</td>\n",
       "    </tr>\n",
       "  </tbody>\n",
       "</table>\n",
       "</div>"
      ],
      "text/plain": [
       "    k   m  b\n",
       "16  6  10  0\n",
       "13  5   8  0\n",
       "16  3  13  0"
      ]
     },
     "execution_count": 19,
     "metadata": {},
     "output_type": "execute_result"
    }
   ],
   "source": [
    "lamaUsahaDf = pd.DataFrame(lamaUsaha,dataKeputusan, columns=['k', 'm', 'b'])\n",
    "lamaUsahaDf"
   ]
  },
  {
   "cell_type": "markdown",
   "metadata": {},
   "source": [
    "##  JUMLAH PEKERJA"
   ]
  },
  {
   "cell_type": "code",
   "execution_count": 20,
   "metadata": {},
   "outputs": [
    {
     "data": {
      "text/plain": [
       "5"
      ]
     },
     "execution_count": 20,
     "metadata": {},
     "output_type": "execute_result"
    }
   ],
   "source": [
    "banyakKecilYaJumlahPekerja = len(dataKeseluruhanYa.loc[dataKeseluruhanYa['JUMLAH PEKERJA'] < 10])\n",
    "banyakKecilYaJumlahPekerja"
   ]
  },
  {
   "cell_type": "code",
   "execution_count": 21,
   "metadata": {},
   "outputs": [
    {
     "data": {
      "text/plain": [
       "5"
      ]
     },
     "execution_count": 21,
     "metadata": {},
     "output_type": "execute_result"
    }
   ],
   "source": [
    "banyakMenengahYaJumlahPekerja = len(dataKeseluruhanYa.loc[(dataKeseluruhanYa['JUMLAH PEKERJA'] >= 10)&(dataKeseluruhanYa['JUMLAH PEKERJA'] <= 20)])\n",
    "banyakMenengahYaJumlahPekerja"
   ]
  },
  {
   "cell_type": "code",
   "execution_count": 22,
   "metadata": {},
   "outputs": [
    {
     "data": {
      "text/plain": [
       "6"
      ]
     },
     "execution_count": 22,
     "metadata": {},
     "output_type": "execute_result"
    }
   ],
   "source": [
    "banyakBesarYaJumlahPekerja = len(dataKeseluruhanYa.loc[(dataKeseluruhanYa['JUMLAH PEKERJA'] > 20)&(dataKeseluruhanYa['JUMLAH PEKERJA'] <= 30)])\n",
    "banyakBesarYaJumlahPekerja"
   ]
  },
  {
   "cell_type": "code",
   "execution_count": 23,
   "metadata": {},
   "outputs": [
    {
     "data": {
      "text/plain": [
       "4"
      ]
     },
     "execution_count": 23,
     "metadata": {},
     "output_type": "execute_result"
    }
   ],
   "source": [
    "banyakKecilTundaJumlahPekerja = len(dataKeseluruhanTunda.loc[dataKeseluruhanTunda['JUMLAH PEKERJA'] < 10])\n",
    "banyakKecilTundaJumlahPekerja"
   ]
  },
  {
   "cell_type": "code",
   "execution_count": 24,
   "metadata": {},
   "outputs": [
    {
     "data": {
      "text/plain": [
       "6"
      ]
     },
     "execution_count": 24,
     "metadata": {},
     "output_type": "execute_result"
    }
   ],
   "source": [
    "banyakMenengahTundaJumlahPekerja = len(dataKeseluruhanTunda.loc[(dataKeseluruhanTunda['JUMLAH PEKERJA'] >= 10)&(dataKeseluruhanTunda['JUMLAH PEKERJA'] <= 20)])\n",
    "banyakMenengahTundaJumlahPekerja"
   ]
  },
  {
   "cell_type": "code",
   "execution_count": 25,
   "metadata": {},
   "outputs": [
    {
     "data": {
      "text/plain": [
       "3"
      ]
     },
     "execution_count": 25,
     "metadata": {},
     "output_type": "execute_result"
    }
   ],
   "source": [
    "banyakBesarTundaJumlahPekerja = len(dataKeseluruhanTunda.loc[(dataKeseluruhanTunda['JUMLAH PEKERJA'] > 20)&(dataKeseluruhanTunda['JUMLAH PEKERJA'] <= 30)])\n",
    "banyakBesarTundaJumlahPekerja"
   ]
  },
  {
   "cell_type": "code",
   "execution_count": 26,
   "metadata": {},
   "outputs": [
    {
     "data": {
      "text/plain": [
       "6"
      ]
     },
     "execution_count": 26,
     "metadata": {},
     "output_type": "execute_result"
    }
   ],
   "source": [
    "banyakKecilTidakJumlahPekerja = len(dataKeseluruhanTidak.loc[dataKeseluruhanTidak['JUMLAH PEKERJA'] < 10])\n",
    "banyakKecilTidakJumlahPekerja"
   ]
  },
  {
   "cell_type": "code",
   "execution_count": 27,
   "metadata": {},
   "outputs": [
    {
     "data": {
      "text/plain": [
       "6"
      ]
     },
     "execution_count": 27,
     "metadata": {},
     "output_type": "execute_result"
    }
   ],
   "source": [
    "banyakMenengahTidakJumlahPekerja = len(dataKeseluruhanTidak.loc[(dataKeseluruhanTidak['JUMLAH PEKERJA'] >= 10)&(dataKeseluruhanTidak['JUMLAH PEKERJA'] <= 20)])\n",
    "banyakMenengahTidakJumlahPekerja"
   ]
  },
  {
   "cell_type": "code",
   "execution_count": 28,
   "metadata": {},
   "outputs": [
    {
     "data": {
      "text/plain": [
       "4"
      ]
     },
     "execution_count": 28,
     "metadata": {},
     "output_type": "execute_result"
    }
   ],
   "source": [
    "banyakBesarTidakJumlahPekerja = len(dataKeseluruhanTidak.loc[(dataKeseluruhanTidak['JUMLAH PEKERJA'] > 20)&(dataKeseluruhanTidak['JUMLAH PEKERJA'] <= 30)])\n",
    "banyakBesarTidakJumlahPekerja"
   ]
  },
  {
   "cell_type": "code",
   "execution_count": 29,
   "metadata": {},
   "outputs": [
    {
     "data": {
      "text/plain": [
       "[[6, 6, 4], [4, 6, 3], [5, 5, 6]]"
      ]
     },
     "execution_count": 29,
     "metadata": {},
     "output_type": "execute_result"
    }
   ],
   "source": [
    "jumlahPekerja = []\n",
    "yaJumlahPekerja = []\n",
    "tundaJumlahPekerja = []\n",
    "tidakJumlahPekerja = []\n",
    "yaJumlahPekerja.append(banyakKecilYaJumlahPekerja)\n",
    "yaJumlahPekerja.append(banyakMenengahYaJumlahPekerja)\n",
    "yaJumlahPekerja.append(banyakBesarYaJumlahPekerja)\n",
    "tundaJumlahPekerja.append(banyakKecilTundaJumlahPekerja)\n",
    "tundaJumlahPekerja.append(banyakMenengahTundaJumlahPekerja)\n",
    "tundaJumlahPekerja.append(banyakBesarTundaJumlahPekerja)\n",
    "tidakJumlahPekerja.append(banyakKecilTidakJumlahPekerja)\n",
    "tidakJumlahPekerja.append(banyakMenengahTidakJumlahPekerja)\n",
    "tidakJumlahPekerja.append(banyakBesarTidakJumlahPekerja)\n",
    "jumlahPekerja.append(tidakJumlahPekerja)\n",
    "jumlahPekerja.append(tundaJumlahPekerja)\n",
    "jumlahPekerja.append(yaJumlahPekerja)\n",
    "jumlahPekerja"
   ]
  },
  {
   "cell_type": "code",
   "execution_count": 30,
   "metadata": {},
   "outputs": [
    {
     "data": {
      "text/html": [
       "<div>\n",
       "<style scoped>\n",
       "    .dataframe tbody tr th:only-of-type {\n",
       "        vertical-align: middle;\n",
       "    }\n",
       "\n",
       "    .dataframe tbody tr th {\n",
       "        vertical-align: top;\n",
       "    }\n",
       "\n",
       "    .dataframe thead th {\n",
       "        text-align: right;\n",
       "    }\n",
       "</style>\n",
       "<table border=\"1\" class=\"dataframe\">\n",
       "  <thead>\n",
       "    <tr style=\"text-align: right;\">\n",
       "      <th></th>\n",
       "      <th>k</th>\n",
       "      <th>m</th>\n",
       "      <th>b</th>\n",
       "    </tr>\n",
       "  </thead>\n",
       "  <tbody>\n",
       "    <tr>\n",
       "      <th>16</th>\n",
       "      <td>6</td>\n",
       "      <td>6</td>\n",
       "      <td>4</td>\n",
       "    </tr>\n",
       "    <tr>\n",
       "      <th>13</th>\n",
       "      <td>4</td>\n",
       "      <td>6</td>\n",
       "      <td>3</td>\n",
       "    </tr>\n",
       "    <tr>\n",
       "      <th>16</th>\n",
       "      <td>5</td>\n",
       "      <td>5</td>\n",
       "      <td>6</td>\n",
       "    </tr>\n",
       "  </tbody>\n",
       "</table>\n",
       "</div>"
      ],
      "text/plain": [
       "    k  m  b\n",
       "16  6  6  4\n",
       "13  4  6  3\n",
       "16  5  5  6"
      ]
     },
     "execution_count": 30,
     "metadata": {},
     "output_type": "execute_result"
    }
   ],
   "source": [
    "jumlahPekerjaDf = pd.DataFrame(jumlahPekerja,dataKeputusan, columns=['k', 'm', 'b'])\n",
    "jumlahPekerjaDf"
   ]
  },
  {
   "cell_type": "markdown",
   "metadata": {},
   "source": [
    "## OMZET "
   ]
  },
  {
   "cell_type": "code",
   "execution_count": 31,
   "metadata": {},
   "outputs": [
    {
     "data": {
      "text/plain": [
       "0"
      ]
     },
     "execution_count": 31,
     "metadata": {},
     "output_type": "execute_result"
    }
   ],
   "source": [
    "banyakKecilYaOmzet = len(dataKeseluruhanYa.loc[dataKeseluruhanYa['OMZET (dlm juta)'] < 1])\n",
    "banyakKecilYaOmzet"
   ]
  },
  {
   "cell_type": "code",
   "execution_count": 32,
   "metadata": {},
   "outputs": [
    {
     "data": {
      "text/plain": [
       "11"
      ]
     },
     "execution_count": 32,
     "metadata": {},
     "output_type": "execute_result"
    }
   ],
   "source": [
    "banyakMenengahYaOmzet = len(dataKeseluruhanYa.loc[(dataKeseluruhanYa['OMZET (dlm juta)'] >= 1)&(dataKeseluruhanYa['OMZET (dlm juta)'] <= 3)])\n",
    "banyakMenengahYaOmzet"
   ]
  },
  {
   "cell_type": "code",
   "execution_count": 33,
   "metadata": {},
   "outputs": [
    {
     "data": {
      "text/plain": [
       "5"
      ]
     },
     "execution_count": 33,
     "metadata": {},
     "output_type": "execute_result"
    }
   ],
   "source": [
    "banyakBesarYaOmzet = len(dataKeseluruhanYa.loc[(dataKeseluruhanYa['OMZET (dlm juta)'] > 3)&(dataKeseluruhanYa['OMZET (dlm juta)'] <= 5)])\n",
    "banyakBesarYaOmzet"
   ]
  },
  {
   "cell_type": "code",
   "execution_count": 34,
   "metadata": {},
   "outputs": [
    {
     "data": {
      "text/plain": [
       "0"
      ]
     },
     "execution_count": 34,
     "metadata": {},
     "output_type": "execute_result"
    }
   ],
   "source": [
    "banyakKecilTundaOmzet = len(dataKeseluruhanTunda.loc[dataKeseluruhanTunda['OMZET (dlm juta)'] < 1])\n",
    "banyakKecilTundaOmzet"
   ]
  },
  {
   "cell_type": "code",
   "execution_count": 35,
   "metadata": {},
   "outputs": [
    {
     "data": {
      "text/plain": [
       "10"
      ]
     },
     "execution_count": 35,
     "metadata": {},
     "output_type": "execute_result"
    }
   ],
   "source": [
    "banyakMenengahTundaOmzet = len(dataKeseluruhanTunda.loc[(dataKeseluruhanTunda['OMZET (dlm juta)'] >= 1)&(dataKeseluruhanTunda['OMZET (dlm juta)'] <= 3)])\n",
    "banyakMenengahTundaOmzet"
   ]
  },
  {
   "cell_type": "code",
   "execution_count": 36,
   "metadata": {},
   "outputs": [
    {
     "data": {
      "text/plain": [
       "3"
      ]
     },
     "execution_count": 36,
     "metadata": {},
     "output_type": "execute_result"
    }
   ],
   "source": [
    "banyakBesarTundaOmzet = len(dataKeseluruhanTunda.loc[(dataKeseluruhanTunda['OMZET (dlm juta)'] > 3)&(dataKeseluruhanTunda['OMZET (dlm juta)'] <= 5)])\n",
    "banyakBesarTundaOmzet"
   ]
  },
  {
   "cell_type": "code",
   "execution_count": 37,
   "metadata": {},
   "outputs": [
    {
     "data": {
      "text/plain": [
       "0"
      ]
     },
     "execution_count": 37,
     "metadata": {},
     "output_type": "execute_result"
    }
   ],
   "source": [
    "banyakKecilTidakOmzet = len(dataKeseluruhanTidak.loc[dataKeseluruhanTidak['OMZET (dlm juta)'] < 1])\n",
    "banyakKecilTidakOmzet"
   ]
  },
  {
   "cell_type": "code",
   "execution_count": 38,
   "metadata": {},
   "outputs": [
    {
     "data": {
      "text/plain": [
       "8"
      ]
     },
     "execution_count": 38,
     "metadata": {},
     "output_type": "execute_result"
    }
   ],
   "source": [
    "banyakMenengahTidakOmzet = len(dataKeseluruhanTidak.loc[(dataKeseluruhanTidak['OMZET (dlm juta)'] >= 1)&(dataKeseluruhanTidak['OMZET (dlm juta)'] <= 3)])\n",
    "banyakMenengahTidakOmzet"
   ]
  },
  {
   "cell_type": "code",
   "execution_count": 39,
   "metadata": {},
   "outputs": [
    {
     "data": {
      "text/plain": [
       "8"
      ]
     },
     "execution_count": 39,
     "metadata": {},
     "output_type": "execute_result"
    }
   ],
   "source": [
    "banyakBesarTidakOmzet = len(dataKeseluruhanTidak.loc[(dataKeseluruhanTidak['OMZET (dlm juta)'] > 3)&(dataKeseluruhanTidak['OMZET (dlm juta)'] <= 5)])\n",
    "banyakBesarTidakOmzet"
   ]
  },
  {
   "cell_type": "code",
   "execution_count": 40,
   "metadata": {},
   "outputs": [
    {
     "data": {
      "text/plain": [
       "[[0, 8, 8], [0, 10, 3], [0, 11, 5]]"
      ]
     },
     "execution_count": 40,
     "metadata": {},
     "output_type": "execute_result"
    }
   ],
   "source": [
    "Omzet = []\n",
    "yaOmzet = []\n",
    "tundaOmzet = []\n",
    "tidakOmzet = []\n",
    "yaOmzet.append(banyakKecilYaOmzet)\n",
    "yaOmzet.append(banyakMenengahYaOmzet)\n",
    "yaOmzet.append(banyakBesarYaOmzet)\n",
    "tundaOmzet.append(banyakKecilTundaOmzet)\n",
    "tundaOmzet.append(banyakMenengahTundaOmzet)\n",
    "tundaOmzet.append(banyakBesarTundaOmzet)\n",
    "tidakOmzet.append(banyakKecilTidakOmzet)\n",
    "tidakOmzet.append(banyakMenengahTidakOmzet)\n",
    "tidakOmzet.append(banyakBesarTidakOmzet)\n",
    "Omzet.append(tidakOmzet)\n",
    "Omzet.append(tundaOmzet)\n",
    "Omzet.append(yaOmzet)\n",
    "Omzet"
   ]
  },
  {
   "cell_type": "code",
   "execution_count": 41,
   "metadata": {},
   "outputs": [
    {
     "data": {
      "text/html": [
       "<div>\n",
       "<style scoped>\n",
       "    .dataframe tbody tr th:only-of-type {\n",
       "        vertical-align: middle;\n",
       "    }\n",
       "\n",
       "    .dataframe tbody tr th {\n",
       "        vertical-align: top;\n",
       "    }\n",
       "\n",
       "    .dataframe thead th {\n",
       "        text-align: right;\n",
       "    }\n",
       "</style>\n",
       "<table border=\"1\" class=\"dataframe\">\n",
       "  <thead>\n",
       "    <tr style=\"text-align: right;\">\n",
       "      <th></th>\n",
       "      <th>k</th>\n",
       "      <th>m</th>\n",
       "      <th>b</th>\n",
       "    </tr>\n",
       "  </thead>\n",
       "  <tbody>\n",
       "    <tr>\n",
       "      <th>16</th>\n",
       "      <td>0</td>\n",
       "      <td>8</td>\n",
       "      <td>8</td>\n",
       "    </tr>\n",
       "    <tr>\n",
       "      <th>13</th>\n",
       "      <td>0</td>\n",
       "      <td>10</td>\n",
       "      <td>3</td>\n",
       "    </tr>\n",
       "    <tr>\n",
       "      <th>16</th>\n",
       "      <td>0</td>\n",
       "      <td>11</td>\n",
       "      <td>5</td>\n",
       "    </tr>\n",
       "  </tbody>\n",
       "</table>\n",
       "</div>"
      ],
      "text/plain": [
       "    k   m  b\n",
       "16  0   8  8\n",
       "13  0  10  3\n",
       "16  0  11  5"
      ]
     },
     "execution_count": 41,
     "metadata": {},
     "output_type": "execute_result"
    }
   ],
   "source": [
    "omzetPekerjaDf = pd.DataFrame(Omzet,dataKeputusan, columns=['k', 'm', 'b'])\n",
    "omzetPekerjaDf"
   ]
  },
  {
   "cell_type": "markdown",
   "metadata": {},
   "source": [
    "## JUMLAH ASET "
   ]
  },
  {
   "cell_type": "code",
   "execution_count": 42,
   "metadata": {},
   "outputs": [
    {
     "data": {
      "text/plain": [
       "9"
      ]
     },
     "execution_count": 42,
     "metadata": {},
     "output_type": "execute_result"
    }
   ],
   "source": [
    "banyakKecilYaJumlahAset = len(dataKeseluruhanYa.loc[dataKeseluruhanYa['JUMLAH ASET'] < 5])\n",
    "banyakKecilYaJumlahAset"
   ]
  },
  {
   "cell_type": "code",
   "execution_count": 43,
   "metadata": {},
   "outputs": [
    {
     "data": {
      "text/plain": [
       "4"
      ]
     },
     "execution_count": 43,
     "metadata": {},
     "output_type": "execute_result"
    }
   ],
   "source": [
    "banyakMenengahYaJumlahAset = len(dataKeseluruhanYa.loc[(dataKeseluruhanYa['JUMLAH ASET'] >= 5)&(dataKeseluruhanYa['JUMLAH ASET'] <= 7)])\n",
    "banyakMenengahYaJumlahAset"
   ]
  },
  {
   "cell_type": "code",
   "execution_count": 44,
   "metadata": {},
   "outputs": [
    {
     "data": {
      "text/plain": [
       "3"
      ]
     },
     "execution_count": 44,
     "metadata": {},
     "output_type": "execute_result"
    }
   ],
   "source": [
    "banyakBesarYaJumlahAset = len(dataKeseluruhanYa.loc[(dataKeseluruhanYa['JUMLAH ASET'] > 7)&(dataKeseluruhanYa['JUMLAH ASET'] <= 10)])\n",
    "banyakBesarYaJumlahAset"
   ]
  },
  {
   "cell_type": "code",
   "execution_count": 45,
   "metadata": {},
   "outputs": [
    {
     "data": {
      "text/plain": [
       "7"
      ]
     },
     "execution_count": 45,
     "metadata": {},
     "output_type": "execute_result"
    }
   ],
   "source": [
    "banyakKecilTundaJumlahAset = len(dataKeseluruhanTunda.loc[dataKeseluruhanTunda['JUMLAH ASET'] < 5])\n",
    "banyakKecilTundaJumlahAset"
   ]
  },
  {
   "cell_type": "code",
   "execution_count": 46,
   "metadata": {},
   "outputs": [
    {
     "data": {
      "text/plain": [
       "4"
      ]
     },
     "execution_count": 46,
     "metadata": {},
     "output_type": "execute_result"
    }
   ],
   "source": [
    "banyakMenengahTundaJumlahAset = len(dataKeseluruhanTunda.loc[(dataKeseluruhanTunda['JUMLAH ASET'] >= 5)&(dataKeseluruhanTunda['JUMLAH ASET'] <= 7)])\n",
    "banyakMenengahTundaJumlahAset"
   ]
  },
  {
   "cell_type": "code",
   "execution_count": 47,
   "metadata": {},
   "outputs": [
    {
     "data": {
      "text/plain": [
       "2"
      ]
     },
     "execution_count": 47,
     "metadata": {},
     "output_type": "execute_result"
    }
   ],
   "source": [
    "banyakBesarTundaJumlahAset = len(dataKeseluruhanTunda.loc[(dataKeseluruhanTunda['JUMLAH ASET'] > 7)&(dataKeseluruhanTunda['JUMLAH ASET'] <= 10)])\n",
    "banyakBesarTundaJumlahAset"
   ]
  },
  {
   "cell_type": "code",
   "execution_count": 48,
   "metadata": {},
   "outputs": [
    {
     "data": {
      "text/plain": [
       "6"
      ]
     },
     "execution_count": 48,
     "metadata": {},
     "output_type": "execute_result"
    }
   ],
   "source": [
    "banyakKecilTidakJumlahAset = len(dataKeseluruhanTidak.loc[dataKeseluruhanTidak['JUMLAH ASET'] < 5])\n",
    "banyakKecilTidakJumlahAset"
   ]
  },
  {
   "cell_type": "code",
   "execution_count": 49,
   "metadata": {},
   "outputs": [
    {
     "data": {
      "text/plain": [
       "5"
      ]
     },
     "execution_count": 49,
     "metadata": {},
     "output_type": "execute_result"
    }
   ],
   "source": [
    "banyakMenengahTidakJumlahAset = len(dataKeseluruhanTidak.loc[(dataKeseluruhanTidak['JUMLAH ASET'] >= 5)&(dataKeseluruhanTidak['JUMLAH ASET'] <= 7)])\n",
    "banyakMenengahTidakJumlahAset"
   ]
  },
  {
   "cell_type": "code",
   "execution_count": 50,
   "metadata": {},
   "outputs": [
    {
     "data": {
      "text/plain": [
       "5"
      ]
     },
     "execution_count": 50,
     "metadata": {},
     "output_type": "execute_result"
    }
   ],
   "source": [
    "banyakBesarTidakJumlahAset = len(dataKeseluruhanTidak.loc[(dataKeseluruhanTidak['JUMLAH ASET'] > 7)&(dataKeseluruhanTidak['JUMLAH ASET'] <= 10)])\n",
    "banyakBesarTidakJumlahAset"
   ]
  },
  {
   "cell_type": "code",
   "execution_count": 51,
   "metadata": {},
   "outputs": [
    {
     "data": {
      "text/plain": [
       "[[6, 5, 5], [7, 4, 2], [9, 4, 3]]"
      ]
     },
     "execution_count": 51,
     "metadata": {},
     "output_type": "execute_result"
    }
   ],
   "source": [
    "JumlahAset = []\n",
    "yaJumlahAset = []\n",
    "tundaJumlahAset = []\n",
    "tidakJumlahAset = []\n",
    "yaJumlahAset.append(banyakKecilYaJumlahAset)\n",
    "yaJumlahAset.append(banyakMenengahYaJumlahAset)\n",
    "yaJumlahAset.append(banyakBesarYaJumlahAset)\n",
    "tundaJumlahAset.append(banyakKecilTundaJumlahAset)\n",
    "tundaJumlahAset.append(banyakMenengahTundaJumlahAset)\n",
    "tundaJumlahAset.append(banyakBesarTundaJumlahAset)\n",
    "tidakJumlahAset.append(banyakKecilTidakJumlahAset)\n",
    "tidakJumlahAset.append(banyakMenengahTidakJumlahAset)\n",
    "tidakJumlahAset.append(banyakBesarTidakJumlahAset)\n",
    "JumlahAset.append(tidakJumlahAset)\n",
    "JumlahAset.append(tundaJumlahAset)\n",
    "JumlahAset.append(yaJumlahAset)\n",
    "JumlahAset"
   ]
  },
  {
   "cell_type": "code",
   "execution_count": 52,
   "metadata": {},
   "outputs": [
    {
     "data": {
      "text/html": [
       "<div>\n",
       "<style scoped>\n",
       "    .dataframe tbody tr th:only-of-type {\n",
       "        vertical-align: middle;\n",
       "    }\n",
       "\n",
       "    .dataframe tbody tr th {\n",
       "        vertical-align: top;\n",
       "    }\n",
       "\n",
       "    .dataframe thead th {\n",
       "        text-align: right;\n",
       "    }\n",
       "</style>\n",
       "<table border=\"1\" class=\"dataframe\">\n",
       "  <thead>\n",
       "    <tr style=\"text-align: right;\">\n",
       "      <th></th>\n",
       "      <th>k</th>\n",
       "      <th>m</th>\n",
       "      <th>b</th>\n",
       "    </tr>\n",
       "  </thead>\n",
       "  <tbody>\n",
       "    <tr>\n",
       "      <th>16</th>\n",
       "      <td>6</td>\n",
       "      <td>5</td>\n",
       "      <td>5</td>\n",
       "    </tr>\n",
       "    <tr>\n",
       "      <th>13</th>\n",
       "      <td>7</td>\n",
       "      <td>4</td>\n",
       "      <td>2</td>\n",
       "    </tr>\n",
       "    <tr>\n",
       "      <th>16</th>\n",
       "      <td>9</td>\n",
       "      <td>4</td>\n",
       "      <td>3</td>\n",
       "    </tr>\n",
       "  </tbody>\n",
       "</table>\n",
       "</div>"
      ],
      "text/plain": [
       "    k  m  b\n",
       "16  6  5  5\n",
       "13  7  4  2\n",
       "16  9  4  3"
      ]
     },
     "execution_count": 52,
     "metadata": {},
     "output_type": "execute_result"
    }
   ],
   "source": [
    "JumlahAsetDf = pd.DataFrame(JumlahAset,dataKeputusan, columns=['k', 'm', 'b'])\n",
    "JumlahAsetDf"
   ]
  },
  {
   "cell_type": "markdown",
   "metadata": {},
   "source": [
    "##  Hitung Peluang"
   ]
  },
  {
   "cell_type": "code",
   "execution_count": 53,
   "metadata": {},
   "outputs": [
    {
     "data": {
      "text/html": [
       "<div>\n",
       "<style scoped>\n",
       "    .dataframe tbody tr th:only-of-type {\n",
       "        vertical-align: middle;\n",
       "    }\n",
       "\n",
       "    .dataframe tbody tr th {\n",
       "        vertical-align: top;\n",
       "    }\n",
       "\n",
       "    .dataframe thead th {\n",
       "        text-align: right;\n",
       "    }\n",
       "</style>\n",
       "<table border=\"1\" class=\"dataframe\">\n",
       "  <thead>\n",
       "    <tr style=\"text-align: right;\">\n",
       "      <th></th>\n",
       "      <th>NAMA UKM</th>\n",
       "      <th>LAMA USAHA (dlm tahun)</th>\n",
       "      <th>JUMLAH PEKERJA</th>\n",
       "      <th>OMZET (dlm juta)</th>\n",
       "      <th>JUMLAH ASET</th>\n",
       "    </tr>\n",
       "  </thead>\n",
       "  <tbody>\n",
       "    <tr>\n",
       "      <th>0</th>\n",
       "      <td>Umk Pamurbaya</td>\n",
       "      <td>Menengah</td>\n",
       "      <td>Menengah</td>\n",
       "      <td>Besar</td>\n",
       "      <td>Menengah</td>\n",
       "    </tr>\n",
       "    <tr>\n",
       "      <th>1</th>\n",
       "      <td>Umk Bandeng</td>\n",
       "      <td>Menengah</td>\n",
       "      <td>Besar</td>\n",
       "      <td>Besar</td>\n",
       "      <td>Besar</td>\n",
       "    </tr>\n",
       "    <tr>\n",
       "      <th>2</th>\n",
       "      <td>Bukid Graffer</td>\n",
       "      <td>Kecil</td>\n",
       "      <td>Menengah</td>\n",
       "      <td>Menengah</td>\n",
       "      <td>Kecil</td>\n",
       "    </tr>\n",
       "    <tr>\n",
       "      <th>3</th>\n",
       "      <td>Kum Mandiri Sablon</td>\n",
       "      <td>Kecil</td>\n",
       "      <td>Menengah</td>\n",
       "      <td>Menengah</td>\n",
       "      <td>Besar</td>\n",
       "    </tr>\n",
       "    <tr>\n",
       "      <th>4</th>\n",
       "      <td>Kum Cahaya Mandiri</td>\n",
       "      <td>Menengah</td>\n",
       "      <td>Besar</td>\n",
       "      <td>Besar</td>\n",
       "      <td>Besar</td>\n",
       "    </tr>\n",
       "  </tbody>\n",
       "</table>\n",
       "</div>"
      ],
      "text/plain": [
       "             NAMA UKM LAMA USAHA (dlm tahun) JUMLAH PEKERJA OMZET (dlm juta)  \\\n",
       "0       Umk Pamurbaya               Menengah       Menengah            Besar   \n",
       "1         Umk Bandeng               Menengah          Besar            Besar   \n",
       "2       Bukid Graffer                  Kecil       Menengah         Menengah   \n",
       "3  Kum Mandiri Sablon                  Kecil       Menengah         Menengah   \n",
       "4  Kum Cahaya Mandiri               Menengah          Besar            Besar   \n",
       "\n",
       "  JUMLAH ASET  \n",
       "0    Menengah  \n",
       "1       Besar  \n",
       "2       Kecil  \n",
       "3       Besar  \n",
       "4       Besar  "
      ]
     },
     "execution_count": 53,
     "metadata": {},
     "output_type": "execute_result"
    }
   ],
   "source": [
    "dataTestDf = pd.read_csv(\"./data/AI 2019-2020 Dataset Naive Bayes Data Uji - Sheet1.csv\")\n",
    "dataTestDf"
   ]
  },
  {
   "cell_type": "markdown",
   "metadata": {},
   "source": [
    "### Lama Usaha"
   ]
  },
  {
   "cell_type": "markdown",
   "metadata": {},
   "source": [
    "### P(lama_usaha = menengah | hasil_keputusan = TIDAK)"
   ]
  },
  {
   "cell_type": "code",
   "execution_count": 54,
   "metadata": {},
   "outputs": [
    {
     "data": {
      "text/plain": [
       "0.625"
      ]
     },
     "execution_count": 54,
     "metadata": {},
     "output_type": "execute_result"
    }
   ],
   "source": [
    "peluangMenengahLamaUsahaPadaTidak = banyakMenengahTidakLamaUsaha/len(dataKeseluruhanTidak)\n",
    "peluangMenengahLamaUsahaPadaTidak"
   ]
  },
  {
   "cell_type": "markdown",
   "metadata": {},
   "source": [
    "### P(lama_usaha = menengah | hasil_keputusan = TUNDA)"
   ]
  },
  {
   "cell_type": "code",
   "execution_count": 55,
   "metadata": {},
   "outputs": [
    {
     "data": {
      "text/plain": [
       "0.6153846153846154"
      ]
     },
     "execution_count": 55,
     "metadata": {},
     "output_type": "execute_result"
    }
   ],
   "source": [
    "peluangMenengahLamaUsahaPadaTunda = banyakMenengahTundaLamaUsaha/len(dataKeseluruhanTunda)\n",
    "peluangMenengahLamaUsahaPadaTunda"
   ]
  },
  {
   "cell_type": "markdown",
   "metadata": {},
   "source": [
    "### P(lama_usaha = menengah | hasil_keputusan = YA)"
   ]
  },
  {
   "cell_type": "code",
   "execution_count": 56,
   "metadata": {},
   "outputs": [
    {
     "data": {
      "text/plain": [
       "0.8125"
      ]
     },
     "execution_count": 56,
     "metadata": {},
     "output_type": "execute_result"
    }
   ],
   "source": [
    "peluangMenengahLamaUsahaPadaYa = banyakMenengahYaLamaUsaha/len(dataKeseluruhanYa)\n",
    "peluangMenengahLamaUsahaPadaYa"
   ]
  },
  {
   "cell_type": "markdown",
   "metadata": {},
   "source": [
    "### Jumlah Pekerja"
   ]
  },
  {
   "cell_type": "markdown",
   "metadata": {},
   "source": [
    "### P(jumlah_pekerja = menengah | hasil_keputusan = TIDAK)"
   ]
  },
  {
   "cell_type": "code",
   "execution_count": 57,
   "metadata": {},
   "outputs": [
    {
     "data": {
      "text/plain": [
       "0.375"
      ]
     },
     "execution_count": 57,
     "metadata": {},
     "output_type": "execute_result"
    }
   ],
   "source": [
    "peluangMenengahJumlahPekerjaPadaTidak = banyakMenengahTidakJumlahPekerja/len(dataKeseluruhanTidak)\n",
    "peluangMenengahJumlahPekerjaPadaTidak"
   ]
  },
  {
   "cell_type": "markdown",
   "metadata": {},
   "source": [
    "### P(jumlah_pekerja = menengah | hasil_keputusan = TUNDA)"
   ]
  },
  {
   "cell_type": "code",
   "execution_count": 62,
   "metadata": {},
   "outputs": [
    {
     "data": {
      "text/plain": [
       "0.46153846153846156"
      ]
     },
     "execution_count": 62,
     "metadata": {},
     "output_type": "execute_result"
    }
   ],
   "source": [
    "peluangMenengahJumlahPekerjaPadaTunda = banyakMenengahTundaJumlahPekerja/len(dataKeseluruhanTunda)\n",
    "peluangMenengahJumlahPekerjaPadaTunda"
   ]
  },
  {
   "cell_type": "markdown",
   "metadata": {},
   "source": [
    "### P(jumlah_pekerja = menengah | hasil_keputusan = YA)"
   ]
  },
  {
   "cell_type": "code",
   "execution_count": 63,
   "metadata": {},
   "outputs": [
    {
     "data": {
      "text/plain": [
       "0.3125"
      ]
     },
     "execution_count": 63,
     "metadata": {},
     "output_type": "execute_result"
    }
   ],
   "source": [
    "peluangMenengahJumlahPekerjaPadaYa = banyakMenengahYaJumlahPekerja/len(dataKeseluruhanYa)\n",
    "peluangMenengahJumlahPekerjaPadaYa"
   ]
  },
  {
   "cell_type": "markdown",
   "metadata": {},
   "source": [
    "### Omzet "
   ]
  },
  {
   "cell_type": "markdown",
   "metadata": {},
   "source": [
    "### P(omzet = besar | hasil_keputusan = TIDAK)"
   ]
  },
  {
   "cell_type": "code",
   "execution_count": 65,
   "metadata": {},
   "outputs": [
    {
     "data": {
      "text/plain": [
       "0.5"
      ]
     },
     "execution_count": 65,
     "metadata": {},
     "output_type": "execute_result"
    }
   ],
   "source": [
    "peluangBesarOmzetPadaTidak = banyakBesarTidakOmzet/len(dataKeseluruhanTidak)\n",
    "peluangBesarOmzetPadaTidak"
   ]
  },
  {
   "cell_type": "markdown",
   "metadata": {},
   "source": [
    "### P(omzet = besar | hasil_keputusan = TUNDA)"
   ]
  },
  {
   "cell_type": "code",
   "execution_count": 66,
   "metadata": {},
   "outputs": [
    {
     "data": {
      "text/plain": [
       "0.23076923076923078"
      ]
     },
     "execution_count": 66,
     "metadata": {},
     "output_type": "execute_result"
    }
   ],
   "source": [
    "peluangBesarOmzetPadaTunda = banyakBesarTundaOmzet/len(dataKeseluruhanTunda)\n",
    "peluangBesarOmzetPadaTunda"
   ]
  },
  {
   "cell_type": "markdown",
   "metadata": {},
   "source": [
    "### P(omzet = besar | hasil_keputusan = YA) "
   ]
  },
  {
   "cell_type": "code",
   "execution_count": 76,
   "metadata": {},
   "outputs": [
    {
     "data": {
      "text/plain": [
       "0.3125"
      ]
     },
     "execution_count": 76,
     "metadata": {},
     "output_type": "execute_result"
    }
   ],
   "source": [
    "peluangBesarOmzetPadaYa = banyakBesarYaOmzet/len(dataKeseluruhanYa)\n",
    "peluangBesarOmzetPadaYa"
   ]
  },
  {
   "cell_type": "markdown",
   "metadata": {},
   "source": [
    "### Jumlah Aset "
   ]
  },
  {
   "cell_type": "markdown",
   "metadata": {},
   "source": [
    "### P(jumlah_aset = menengah | hasil_keputusan = TIDAK) "
   ]
  },
  {
   "cell_type": "code",
   "execution_count": 77,
   "metadata": {},
   "outputs": [
    {
     "data": {
      "text/plain": [
       "0.3125"
      ]
     },
     "execution_count": 77,
     "metadata": {},
     "output_type": "execute_result"
    }
   ],
   "source": [
    "peluangMenengahJumlahAsetPadaTidak = banyakMenengahTidakJumlahAset/len(dataKeseluruhanTidak)\n",
    "peluangMenengahJumlahAsetPadaTidak"
   ]
  },
  {
   "cell_type": "markdown",
   "metadata": {},
   "source": [
    "### P(jumlah_aset = menengah | hasil_keputusan = TUNDA)"
   ]
  },
  {
   "cell_type": "code",
   "execution_count": 78,
   "metadata": {},
   "outputs": [
    {
     "data": {
      "text/plain": [
       "0.3076923076923077"
      ]
     },
     "execution_count": 78,
     "metadata": {},
     "output_type": "execute_result"
    }
   ],
   "source": [
    "peluangMenengahJumlahAsetPadaTunda = banyakMenengahTundaJumlahAset/len(dataKeseluruhanTunda)\n",
    "peluangMenengahJumlahAsetPadaTunda"
   ]
  },
  {
   "cell_type": "markdown",
   "metadata": {},
   "source": [
    "### P(jumlah_aset = menengah | hasil_keputusan = YA       "
   ]
  },
  {
   "cell_type": "code",
   "execution_count": 79,
   "metadata": {},
   "outputs": [
    {
     "data": {
      "text/plain": [
       "0.25"
      ]
     },
     "execution_count": 79,
     "metadata": {},
     "output_type": "execute_result"
    }
   ],
   "source": [
    "peluangMenengahJumlahAsetPadaYa = banyakMenengahYaJumlahAset/len(dataKeseluruhanYa)\n",
    "peluangMenengahJumlahAsetPadaYa"
   ]
  },
  {
   "cell_type": "markdown",
   "metadata": {},
   "source": [
    "## Data UMK Pamurbaya"
   ]
  },
  {
   "cell_type": "code",
   "execution_count": 80,
   "metadata": {},
   "outputs": [
    {
     "data": {
      "text/plain": [
       "[[0.625, 0.6153846153846154, 0.8125],\n",
       " [0.375, 0.46153846153846156, 0.3125],\n",
       " [0.5, 0.23076923076923078, 0.3125],\n",
       " [0.3125, 0.3076923076923077, 0.25]]"
      ]
     },
     "execution_count": 80,
     "metadata": {},
     "output_type": "execute_result"
    }
   ],
   "source": [
    "dataPeluangPamurbaya = []\n",
    "peluangPamurbayaLama = []\n",
    "peluangPamurbayaJumlahPekerja = []\n",
    "peluangPamurbayaOmzet = []\n",
    "peluangPamurbayaJumlahAset = []\n",
    "peluangPamurbayaLama.append(peluangMenengahLamaUsahaPadaTidak)\n",
    "peluangPamurbayaLama.append(peluangMenengahLamaUsahaPadaTunda)\n",
    "peluangPamurbayaLama.append(peluangMenengahLamaUsahaPadaYa)\n",
    "peluangPamurbayaJumlahPekerja.append(peluangMenengahJumlahPekerjaPadaTidak)\n",
    "peluangPamurbayaJumlahPekerja.append(peluangMenengahJumlahPekerjaPadaTunda)\n",
    "peluangPamurbayaJumlahPekerja.append(peluangMenengahJumlahPekerjaPadaYa)\n",
    "peluangPamurbayaOmzet.append(peluangBesarOmzetPadaTidak)\n",
    "peluangPamurbayaOmzet.append(peluangBesarOmzetPadaTunda)\n",
    "peluangPamurbayaOmzet.append(peluangBesarOmzetPadaYa)\n",
    "peluangPamurbayaJumlahAset.append(peluangMenengahJumlahAsetPadaTidak)\n",
    "peluangPamurbayaJumlahAset.append(peluangMenengahJumlahAsetPadaTunda)\n",
    "peluangPamurbayaJumlahAset.append(peluangMenengahJumlahAsetPadaYa)\n",
    "dataPeluangPamurbaya.append(peluangPamurbayaLama)\n",
    "dataPeluangPamurbaya.append(peluangPamurbayaJumlahPekerja)\n",
    "dataPeluangPamurbaya.append(peluangPamurbayaOmzet)\n",
    "dataPeluangPamurbaya.append(peluangPamurbayaJumlahAset)\n",
    "dataPeluangPamurbaya"
   ]
  },
  {
   "cell_type": "code",
   "execution_count": 82,
   "metadata": {},
   "outputs": [
    {
     "data": {
      "text/html": [
       "<div>\n",
       "<style scoped>\n",
       "    .dataframe tbody tr th:only-of-type {\n",
       "        vertical-align: middle;\n",
       "    }\n",
       "\n",
       "    .dataframe tbody tr th {\n",
       "        vertical-align: top;\n",
       "    }\n",
       "\n",
       "    .dataframe thead th {\n",
       "        text-align: right;\n",
       "    }\n",
       "</style>\n",
       "<table border=\"1\" class=\"dataframe\">\n",
       "  <thead>\n",
       "    <tr style=\"text-align: right;\">\n",
       "      <th></th>\n",
       "      <th>0</th>\n",
       "      <th>1</th>\n",
       "      <th>2</th>\n",
       "    </tr>\n",
       "  </thead>\n",
       "  <tbody>\n",
       "    <tr>\n",
       "      <th>0</th>\n",
       "      <td>0.6250</td>\n",
       "      <td>0.615385</td>\n",
       "      <td>0.8125</td>\n",
       "    </tr>\n",
       "    <tr>\n",
       "      <th>1</th>\n",
       "      <td>0.3750</td>\n",
       "      <td>0.461538</td>\n",
       "      <td>0.3125</td>\n",
       "    </tr>\n",
       "    <tr>\n",
       "      <th>2</th>\n",
       "      <td>0.5000</td>\n",
       "      <td>0.230769</td>\n",
       "      <td>0.3125</td>\n",
       "    </tr>\n",
       "    <tr>\n",
       "      <th>3</th>\n",
       "      <td>0.3125</td>\n",
       "      <td>0.307692</td>\n",
       "      <td>0.2500</td>\n",
       "    </tr>\n",
       "  </tbody>\n",
       "</table>\n",
       "</div>"
      ],
      "text/plain": [
       "        0         1       2\n",
       "0  0.6250  0.615385  0.8125\n",
       "1  0.3750  0.461538  0.3125\n",
       "2  0.5000  0.230769  0.3125\n",
       "3  0.3125  0.307692  0.2500"
      ]
     },
     "execution_count": 82,
     "metadata": {},
     "output_type": "execute_result"
    }
   ],
   "source": [
    "dataPeluangPamurbayaDf = pd.DataFrame(dataPeluangPamurbaya)\n",
    "dataPeluangPamurbayaDf"
   ]
  },
  {
   "cell_type": "code",
   "execution_count": null,
   "metadata": {},
   "outputs": [],
   "source": []
  }
 ],
 "metadata": {
  "kernelspec": {
   "display_name": "Python 3",
   "language": "python",
   "name": "python3"
  },
  "language_info": {
   "codemirror_mode": {
    "name": "ipython",
    "version": 3
   },
   "file_extension": ".py",
   "mimetype": "text/x-python",
   "name": "python",
   "nbconvert_exporter": "python",
   "pygments_lexer": "ipython3",
   "version": "3.7.4"
  }
 },
 "nbformat": 4,
 "nbformat_minor": 2
}
