{
 "cells": [
  {
   "cell_type": "code",
   "execution_count": 2,
   "metadata": {},
   "outputs": [],
   "source": [
    "import numpy as np \n",
    "import pandas as pd\n",
    "import matplotlib.pyplot as plt"
   ]
  },
  {
   "cell_type": "code",
   "execution_count": 9,
   "metadata": {},
   "outputs": [
    {
     "data": {
      "text/plain": [
       "44"
      ]
     },
     "execution_count": 9,
     "metadata": {},
     "output_type": "execute_result"
    }
   ],
   "source": [
    "dataUkm = np.array(['Sanggar Azalea',\n",
    "                    'Kedurus Sejahtera'\n",
    "                    'Rapi Ayu Handycraft',\n",
    "                    'Jaya Computer',\n",
    "                    'Purnama',\n",
    "                    'Kencana Craft',\n",
    "                    'V-Tri Accessories',\n",
    "                    'Maju Jaya Sablon',\n",
    "                    'Batik Semanggi',\n",
    "                    'Sunrise Picture',\n",
    "                    'Mitra Mandiri',\n",
    "                    'Liana',\n",
    "                    'Madekan',\n",
    "                    'Temuwati',\n",
    "                    'Eva Nur Fadillah',\n",
    "                    'Sri Sulatiningsih',\n",
    "                    'Warna Ayu',\n",
    "                    'UKM Jasierah',\n",
    "                    'Nurul',\n",
    "                    'Pujiati',\n",
    "                    'Indrayani',\n",
    "                    'KSM Kurma',\n",
    "                    'UKM Danadipa Etnik',\n",
    "                    'UKM Enfina',\n",
    "                    'KSM Lezat',\n",
    "                    'Andyni Collection',\n",
    "                    'Ananda Collection',\n",
    "                    'UMK Rumpun Bambu',\n",
    "                    'UMK Flamboyan',\n",
    "                    'UMK Tandu A.W',\n",
    "                    'UMK Prayogi',\n",
    "                    'UMK Dian Collection',\n",
    "                    'Kelompok Tani',\n",
    "                    'Umi Hanik',\n",
    "                    'Lilik Yulfa',\n",
    "                    'Titik Suprihatin',\n",
    "                    'Tutik Jasilkan',\n",
    "                    'Subaun',\n",
    "                    'Mekan',\n",
    "                    'KSM Budaya 4',\n",
    "                    'UMK Warga Mandiri',\n",
    "                    'KSM Kreatif dan KOI',\n",
    "                    'Sri Lasmini Budiono',\n",
    "                    'UMK Sayu Sejahtera',\n",
    "                    'Windu Collection',\n",
    "                   ])\n",
    "len(dataUkm)"
   ]
  },
  {
   "cell_type": "code",
   "execution_count": 10,
   "metadata": {},
   "outputs": [
    {
     "data": {
      "text/plain": [
       "45"
      ]
     },
     "execution_count": 10,
     "metadata": {},
     "output_type": "execute_result"
    }
   ],
   "source": [
    "lamaUsaha = np.array([2,\n",
    "                     6,\n",
    "                     4,2,1,3,4,5,6,7,4,0,7,2,5,3,7,3,6,0,2,0,3,3,2,7,6,5,4,3,7,1,4,2,7,5,5,4,7,1,4,7,1,5,2])\n",
    "len(lamaUsaha)"
   ]
  },
  {
   "cell_type": "code",
   "execution_count": null,
   "metadata": {},
   "outputs": [],
   "source": []
  }
 ],
 "metadata": {
  "kernelspec": {
   "display_name": "Python 3",
   "language": "python",
   "name": "python3"
  },
  "language_info": {
   "codemirror_mode": {
    "name": "ipython",
    "version": 3
   },
   "file_extension": ".py",
   "mimetype": "text/x-python",
   "name": "python",
   "nbconvert_exporter": "python",
   "pygments_lexer": "ipython3",
   "version": "3.7.4"
  }
 },
 "nbformat": 4,
 "nbformat_minor": 2
}
